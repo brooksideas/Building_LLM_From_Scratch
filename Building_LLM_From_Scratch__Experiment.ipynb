{
  "nbformat": 4,
  "nbformat_minor": 0,
  "metadata": {
    "colab": {
      "provenance": [],
      "gpuType": "T4"
    },
    "kernelspec": {
      "name": "python3",
      "display_name": "Python 3"
    },
    "language_info": {
      "name": "python"
    },
    "accelerator": "GPU"
  },
  "cells": [
    {
      "cell_type": "markdown",
      "source": [
        "# Building_LLM_From_Scratch__Experiment"
      ],
      "metadata": {
        "id": "V4glkm3gz9zh"
      }
    },
    {
      "cell_type": "code",
      "execution_count": 1,
      "metadata": {
        "id": "h4Au2B32ywhG",
        "colab": {
          "base_uri": "https://localhost:8080/"
        },
        "outputId": "c4ff8356-fda1-4069-e5fa-1575fe679347"
      },
      "outputs": [
        {
          "output_type": "stream",
          "name": "stdout",
          "text": [
            "Mounted at /content/drive\n"
          ]
        }
      ],
      "source": [
        "from google.colab import drive\n",
        "drive.mount('/content/drive')"
      ]
    },
    {
      "cell_type": "code",
      "source": [
        "%cd /content/drive/MyDrive/"
      ],
      "metadata": {
        "colab": {
          "base_uri": "https://localhost:8080/"
        },
        "id": "KwTtD1vC0Ar_",
        "outputId": "28072f30-e805-44d5-9e56-a76c2d550ee7"
      },
      "execution_count": 2,
      "outputs": [
        {
          "output_type": "stream",
          "name": "stdout",
          "text": [
            "/content/drive/MyDrive\n"
          ]
        }
      ]
    },
    {
      "cell_type": "markdown",
      "source": [
        "#### Imported Libraries and Packages"
      ],
      "metadata": {
        "id": "Lgw7Fz7N5Otf"
      }
    },
    {
      "cell_type": "code",
      "source": [
        "import torch\n",
        "import torch.nn as nn\n",
        "from torch.nn import functional as F\n",
        "import mmap\n",
        "import string\n",
        "import random\n",
        "import pickle"
      ],
      "metadata": {
        "id": "X5egVf-y5TtB"
      },
      "execution_count": 3,
      "outputs": []
    },
    {
      "cell_type": "markdown",
      "source": [
        "#### Runtime Type"
      ],
      "metadata": {
        "id": "KX1dEVEO80Z1"
      }
    },
    {
      "cell_type": "code",
      "source": [
        "device = 'cuda' if torch.cuda.is_available() else 'cpu'\n",
        "print(device)"
      ],
      "metadata": {
        "colab": {
          "base_uri": "https://localhost:8080/"
        },
        "id": "2XUgH-2s84IL",
        "outputId": "4e3539ea-fe8f-410d-828d-c689458c5aee"
      },
      "execution_count": 4,
      "outputs": [
        {
          "output_type": "stream",
          "name": "stdout",
          "text": [
            "cuda\n"
          ]
        }
      ]
    },
    {
      "cell_type": "markdown",
      "source": [
        "#### Read the Text Corpus Demo"
      ],
      "metadata": {
        "id": "g0dp3Tai9HSu"
      }
    },
    {
      "cell_type": "code",
      "source": [
        "with open('wizard_of_oz.txt', 'r', encoding='utf-8') as f:\n",
        "  text = f.read()\n",
        "chars = sorted(set(text))\n",
        "print(chars)"
      ],
      "metadata": {
        "colab": {
          "base_uri": "https://localhost:8080/"
        },
        "id": "KmKbvvV50LPm",
        "outputId": "7c3b9c38-81ea-44ae-ad83-d42a7168213b"
      },
      "execution_count": null,
      "outputs": [
        {
          "output_type": "stream",
          "name": "stdout",
          "text": [
            "['\\n', ' ', '!', '\"', '&', \"'\", '(', ')', '*', ',', '-', '.', '0', '1', '2', '3', '4', '5', '6', '7', '8', '9', ':', ';', '?', 'A', 'B', 'C', 'D', 'E', 'F', 'G', 'H', 'I', 'J', 'K', 'L', 'M', 'N', 'O', 'P', 'Q', 'R', 'S', 'T', 'U', 'V', 'W', 'X', 'Y', 'Z', '[', ']', '_', 'a', 'b', 'c', 'd', 'e', 'f', 'g', 'h', 'i', 'j', 'k', 'l', 'm', 'n', 'o', 'p', 'q', 'r', 's', 't', 'u', 'v', 'w', 'x', 'y', 'z']\n"
          ]
        }
      ]
    },
    {
      "cell_type": "markdown",
      "source": [
        "#### Encoder and Decoder Function Demo"
      ],
      "metadata": {
        "id": "rXOrfy4S9L36"
      }
    },
    {
      "cell_type": "code",
      "source": [
        "string_to_int = { ch:i for i,ch in enumerate(chars) }\n",
        "int_to_string = { i:ch for i,ch in enumerate(chars) }\n",
        "encode = lambda s: [string_to_int[c] for c in s]\n",
        "decode = lambda l: ''.join([int_to_string[i] for i in l])\n",
        "\n",
        "# print(encode('hello')) # Output [61, 58, 65, 65, 68]\n",
        "# print(decode([61, 58, 65, 65, 68])) # Output hello\n",
        "data = torch.tensor(encode(text), dtype=torch.long)"
      ],
      "metadata": {
        "id": "0YP6Oj0V15Q0"
      },
      "execution_count": null,
      "outputs": []
    },
    {
      "cell_type": "markdown",
      "source": [
        "#### Batching Demo"
      ],
      "metadata": {
        "id": "6vl4FVD09WiI"
      }
    },
    {
      "cell_type": "code",
      "source": [
        "n = int(0.8*len(data))\n",
        "train_data = data[:n]\n",
        "val_data = data[n:]\n",
        "\n",
        "def get_batch(split):\n",
        "    data = train_data if split == 'train' else val_data\n",
        "    ix = torch.randint(len(data) - block_size, (batch_size,))\n",
        "    x = torch.stack([data[i:i+block_size] for i in ix])\n",
        "    y = torch.stack([data[i+1:i+block_size+1] for i in ix])\n",
        "    x, y = x.to(device), y.to(device)\n",
        "    return x, y\n",
        "\n",
        "x, y = get_batch('train')\n",
        "print('inputs:')\n",
        "# print(x.shape)\n",
        "print(x)\n",
        "print('targets:')\n",
        "print(y)"
      ],
      "metadata": {
        "colab": {
          "base_uri": "https://localhost:8080/"
        },
        "id": "DrSyN-ZB9FcS",
        "outputId": "16fa1d43-4803-403b-9f0f-c3c27a37ec8a"
      },
      "execution_count": null,
      "outputs": [
        {
          "output_type": "stream",
          "name": "stdout",
          "text": [
            "inputs:\n",
            "tensor([[73, 61, 62, 67, 64,  1, 68, 59],\n",
            "        [71, 54, 56, 73, 62, 56, 54, 65],\n",
            "        [ 1, 78, 68, 74,  1, 73, 68,  1],\n",
            "        [58, 65, 65,  1, 78, 68, 74,  1]])\n",
            "targets:\n",
            "tensor([[61, 62, 67, 64,  1, 68, 59,  1],\n",
            "        [54, 56, 73, 62, 56, 54, 65, 65],\n",
            "        [78, 68, 74,  1, 73, 68,  1, 78],\n",
            "        [65, 65,  1, 78, 68, 74,  1, 57]])\n"
          ]
        }
      ]
    },
    {
      "cell_type": "markdown",
      "source": [
        "## Building and Training the GPT Model"
      ],
      "metadata": {
        "id": "Fgk56tOCl_FX"
      }
    },
    {
      "cell_type": "markdown",
      "source": [
        "#### Opening the Train or Validation Split"
      ],
      "metadata": {
        "id": "5WM_EeOZmRU6"
      }
    },
    {
      "cell_type": "code",
      "source": [
        "train_split_file_name = \"wizard_of_oz_train_split.txt\"\n",
        "validation_split_file_name = \"wizard_of_oz_val_split.txt\""
      ],
      "metadata": {
        "id": "yV-BVQHfn6WR"
      },
      "execution_count": 5,
      "outputs": []
    },
    {
      "cell_type": "markdown",
      "source": [
        "##### Training Split Vocab Size [232 KB]"
      ],
      "metadata": {
        "id": "brogVgh1okyu"
      }
    },
    {
      "cell_type": "code",
      "source": [
        "train_chars = \"\"\n",
        "with open(f\"{train_split_file_name}\", 'r', encoding='utf-8') as f:\n",
        "        text = f.read()\n",
        "        train_chars = sorted(list(set(text)))\n",
        "\n",
        "vocab_size = len(train_chars)\n",
        "vocab_size\n",
        "# print(train_chars)"
      ],
      "metadata": {
        "colab": {
          "base_uri": "https://localhost:8080/"
        },
        "id": "1JxC-C8foq1u",
        "outputId": "13f47efd-a0ad-4cf4-a5ca-d20fe1884faf"
      },
      "execution_count": 8,
      "outputs": [
        {
          "output_type": "execute_result",
          "data": {
            "text/plain": [
              "80"
            ]
          },
          "metadata": {},
          "execution_count": 8
        }
      ]
    },
    {
      "cell_type": "markdown",
      "source": [
        "##### Validation Split Vocab Size [81 KB]"
      ],
      "metadata": {
        "id": "q60RwGLvoqYO"
      }
    },
    {
      "cell_type": "code",
      "source": [
        "val_chars = \"\"\n",
        "with open(f\"{validation_split_file_name}\", 'r', encoding='utf-8') as f:\n",
        "        text = f.read()\n",
        "        val_chars = sorted(list(set(text)))\n",
        "\n",
        "vocab_size_val = len(val_chars)\n",
        "vocab_size_val\n",
        "# print(vocab_size_val)"
      ],
      "metadata": {
        "colab": {
          "base_uri": "https://localhost:8080/"
        },
        "id": "kA6QAFo6mRtD",
        "outputId": "16adbfff-df93-470d-9314-0cc57d01eb53"
      },
      "execution_count": 9,
      "outputs": [
        {
          "output_type": "execute_result",
          "data": {
            "text/plain": [
              "65"
            ]
          },
          "metadata": {},
          "execution_count": 9
        }
      ]
    },
    {
      "cell_type": "markdown",
      "source": [
        "#### Hyperparameter Setup"
      ],
      "metadata": {
        "id": "9ZX5dxf087v0"
      }
    },
    {
      "cell_type": "code",
      "source": [
        "batch_size = 32\n",
        "block_size = 128\n",
        "max_iters = 10000\n",
        "learning_rate = 1e-4\n",
        "eval_iters = 100\n",
        "n_embd = 384\n",
        "n_head = 4\n",
        "n_layer = 4\n",
        "dropout = 0.2"
      ],
      "metadata": {
        "id": "_Ze7H-xq8-tq"
      },
      "execution_count": 18,
      "outputs": []
    },
    {
      "cell_type": "markdown",
      "source": [
        "#### Encoder and Decoder Setup"
      ],
      "metadata": {
        "id": "EyLU_34VtsOe"
      }
    },
    {
      "cell_type": "code",
      "source": [
        "# Add all unique characters, including special characters and numbers plus new Line characters\n",
        "all_chars = string.ascii_letters + string.digits + string.punctuation + ' ' + ' \\n'\n",
        "\n",
        "# Assign the New Vocab size based on the Number of unique characters in our corpus\n",
        "vocab_size = len(all_chars)\n",
        "\n",
        "# Create string_to_int and int_to_string dictionaries\n",
        "string_to_int = {ch: i for i, ch in enumerate(all_chars)}\n",
        "int_to_string = {i: ch for i, ch in enumerate(all_chars)}\n",
        "\n",
        "# Lambda functions for encoding and decoding\n",
        "encode = lambda s: [string_to_int[c] for c in s]\n",
        "decode = lambda l: ''.join([int_to_string[i] for i in l])\n",
        "\n",
        "# Usage:\n",
        "text = \"Hello, Brook age 27!\\nNew line.\"\n",
        "encoded_text = encode(text)\n",
        "decoded_text = decode(encoded_text)\n",
        "\n",
        "# Output\n",
        "print(f\"Vocab size: {vocab_size}\")\n",
        "print(f\"Original text: {text}\")\n",
        "print(f\"Encoded text: {encoded_text}\")\n",
        "print(f\"Decoded text: {decoded_text}\")"
      ],
      "metadata": {
        "colab": {
          "base_uri": "https://localhost:8080/"
        },
        "id": "9VZaJ0PVwXK6",
        "outputId": "09baa81e-fe9c-4130-ef44-e77be3b400d3"
      },
      "execution_count": 7,
      "outputs": [
        {
          "output_type": "stream",
          "name": "stdout",
          "text": [
            "Vocab size: 97\n",
            "Original text: Hello, Brook age 27!\n",
            "New line.\n",
            "Encoded text: [33, 4, 11, 11, 14, 73, 95, 27, 17, 14, 14, 10, 95, 0, 6, 4, 95, 54, 59, 62, 96, 39, 4, 22, 95, 11, 8, 13, 4, 75]\n",
            "Decoded text: Hello, Brook age 27!\n",
            "New line.\n"
          ]
        }
      ]
    },
    {
      "cell_type": "markdown",
      "source": [
        "#### Batching Setup with Memory Map Seeking"
      ],
      "metadata": {
        "id": "LM41xOr6paAd"
      }
    },
    {
      "cell_type": "code",
      "source": [
        "# memory map for using small snippets of text from a single file of any size\n",
        "def get_random_chunk(split):\n",
        "    filename = train_split_file_name if split == 'train' else validation_split_file_name\n",
        "    with open(filename, 'rb') as f:\n",
        "        with mmap.mmap(f.fileno(), 0, access=mmap.ACCESS_READ) as mm:\n",
        "            # Determine the file size and a random position to start reading\n",
        "            file_size = len(mm)\n",
        "\n",
        "            # Ensure the start position is within the valid range\n",
        "            max_start_pos = file_size - block_size * batch_size\n",
        "\n",
        "            start_pos = random.randint(0, max_start_pos)\n",
        "\n",
        "            # Seek to the random position and read the block of text\n",
        "            mm.seek(start_pos)\n",
        "            block = mm.read(block_size*(batch_size-1))\n",
        "\n",
        "            # Decode the block to a string, ignoring any invalid byte sequences\n",
        "            decoded_block = block.decode('utf-8', errors='ignore').replace('\\r', '')\n",
        "\n",
        "            # Train and test splits\n",
        "            data = torch.tensor(encode(decoded_block), dtype=torch.long)\n",
        "\n",
        "    return data\n",
        "\n",
        "\n",
        "def get_batch(split):\n",
        "    data = get_random_chunk(split)\n",
        "    max_ix = len(data) - block_size - 1\n",
        "    # Ensure the randomly selected indices are within the valid range\n",
        "    ix = torch.randint(max_ix, (batch_size,))\n",
        "    # ix = torch.randint(len(data) - block_size, (batch_size,))\n",
        "    # Adjust the selected indices to prevent index out of range\n",
        "    ix = torch.clamp(ix, 0, max_ix)\n",
        "    x = torch.stack([data[i:i+block_size] for i in ix])\n",
        "    y = torch.stack([data[i+1:i+block_size+1] for i in ix])\n",
        "    x, y = x.to(device), y.to(device)\n",
        "    return x, y"
      ],
      "metadata": {
        "id": "Oy0xZWt9paV8"
      },
      "execution_count": 8,
      "outputs": []
    },
    {
      "cell_type": "markdown",
      "source": [
        "#### Loss Estimation for Training and Evaluation"
      ],
      "metadata": {
        "id": "UA9PPmL6cbib"
      }
    },
    {
      "cell_type": "code",
      "source": [
        "class EstimateLoss:\n",
        "    def __init__(self, model, eval_iters, get_batch):\n",
        "        self.model = model\n",
        "        self.eval_iters = eval_iters\n",
        "        self.get_batch = get_batch\n",
        "\n",
        "    @torch.no_grad()\n",
        "    def estimate_loss(self):\n",
        "        out = {}\n",
        "        self.model.eval()\n",
        "\n",
        "        for split in ['train', 'val']:\n",
        "            losses = torch.zeros(self.eval_iters)\n",
        "            for k in range(self.eval_iters):\n",
        "                X, Y = self.get_batch(split)\n",
        "                logits, loss = self.model(X, Y)\n",
        "                losses[k] = loss.item()\n",
        "\n",
        "            out[split] = losses.mean()\n",
        "\n",
        "        self.model.train()\n",
        "        return out"
      ],
      "metadata": {
        "id": "cEuMpvbKcb3v"
      },
      "execution_count": 9,
      "outputs": []
    },
    {
      "cell_type": "markdown",
      "source": [
        "#### GPT Architecture"
      ],
      "metadata": {
        "id": "fQU_pStZcltB"
      }
    },
    {
      "cell_type": "markdown",
      "source": [
        "#### Head , MultiHeadAttention , FeedForward and Block Class"
      ],
      "metadata": {
        "id": "D4HEimzrqgOp"
      }
    },
    {
      "cell_type": "code",
      "source": [
        "class Head(nn.Module):\n",
        "    \"\"\" one head of self-attention \"\"\"\n",
        "\n",
        "    def __init__(self, head_size):\n",
        "        super().__init__()\n",
        "        self.key = nn.Linear(n_embd, head_size, bias=False)\n",
        "        self.query = nn.Linear(n_embd, head_size, bias=False)\n",
        "        self.value = nn.Linear(n_embd, head_size, bias=False)\n",
        "        self.register_buffer('tril', torch.tril(torch.ones(block_size, block_size)))\n",
        "\n",
        "        self.dropout = nn.Dropout(dropout)\n",
        "\n",
        "    def forward(self, x):\n",
        "        # input of size (batch, time-step, channels)\n",
        "        # output of size (batch, time-step, head size)\n",
        "        B,T,C = x.shape\n",
        "        k = self.key(x)   # (B,T,hs)\n",
        "        q = self.query(x) # (B,T,hs)\n",
        "        # compute attention scores (\"affinities\")\n",
        "        wei = q @ k.transpose(-2,-1) * k.shape[-1]**-0.5 # (B, T, hs) @ (B, hs, T) -> (B, T, T)\n",
        "        wei = wei.masked_fill(self.tril[:T, :T] == 0, float('-inf')) # (B, T, T)\n",
        "        wei = F.softmax(wei, dim=-1) # (B, T, T)\n",
        "        wei = self.dropout(wei)\n",
        "        # perform the weighted aggregation of the values\n",
        "        v = self.value(x) # (B,T,hs)\n",
        "        out = wei @ v # (B, T, T) @ (B, T, hs) -> (B, T, hs)\n",
        "        return out\n",
        "\n",
        "# [1, 0, 0]\n",
        "# [1, 0.6, 0]\n",
        "# [1, 0.6, 0.4]\n",
        "class MultiHeadAttention(nn.Module):\n",
        "    \"\"\" multiple heads of self-attention in parallel \"\"\"\n",
        "\n",
        "    def __init__(self, num_heads, head_size):\n",
        "        super().__init__()\n",
        "        self.heads = nn.ModuleList([Head(head_size) for _ in range(num_heads)])\n",
        "        self.proj = nn.Linear(head_size * num_heads, n_embd)\n",
        "        self.dropout = nn.Dropout(dropout)\n",
        "\n",
        "    def forward(self, x):\n",
        "        out = torch.cat([h(x) for h in self.heads], dim=-1) # (B, T, F) -> (B, T, [h1, h1, h1, h1, h2, h2, h2, h2, h3, h3, h3, h3])\n",
        "        out = self.dropout(self.proj(out))\n",
        "        return out\n",
        "\n",
        "\n",
        "class FeedFoward(nn.Module):\n",
        "    \"\"\" a simple linear layer followed by a non-linearity \"\"\"\n",
        "\n",
        "    def __init__(self, n_embd):\n",
        "        super().__init__()\n",
        "        self.net = nn.Sequential(\n",
        "            nn.Linear(n_embd, 4 * n_embd),\n",
        "            nn.ReLU(),\n",
        "            nn.Linear(4 * n_embd, n_embd),\n",
        "            nn.Dropout(dropout),\n",
        "        )\n",
        "\n",
        "    def forward(self, x):\n",
        "        return self.net(x)\n",
        "\n",
        "class Block(nn.Module):\n",
        "    \"\"\" Transformer block: communication followed by computation \"\"\"\n",
        "\n",
        "    def __init__(self, n_embd, n_head):\n",
        "        # n_embd: embedding dimension, n_head: the number of heads we'd like\n",
        "        super().__init__()\n",
        "        head_size = n_embd // n_head\n",
        "        self.sa = MultiHeadAttention(n_head, head_size)\n",
        "        self.ffwd = FeedFoward(n_embd)\n",
        "        self.ln1 = nn.LayerNorm(n_embd)\n",
        "        self.ln2 = nn.LayerNorm(n_embd)\n",
        "\n",
        "    def forward(self, x):\n",
        "        y = self.sa(x)\n",
        "        x = self.ln1(x + y)\n",
        "        y = self.ffwd(x)\n",
        "        x = self.ln2(x + y)\n",
        "        return x"
      ],
      "metadata": {
        "id": "2LUhKjsOcqyD"
      },
      "execution_count": 10,
      "outputs": []
    },
    {
      "cell_type": "markdown",
      "source": [
        "#### GPT Language Model Class"
      ],
      "metadata": {
        "id": "kELDPTlaqZ0B"
      }
    },
    {
      "cell_type": "code",
      "source": [
        "class GPTLanguageModel(nn.Module):\n",
        "    def __init__(self, vocab_size):\n",
        "        super().__init__()\n",
        "        self.token_embedding_table = nn.Embedding(vocab_size, n_embd)\n",
        "        self.position_embedding_table = nn.Embedding(block_size, n_embd)\n",
        "        self.blocks = nn.Sequential(*[Block(n_embd, n_head=n_head) for _ in range(n_layer)])\n",
        "        self.ln_f = nn.LayerNorm(n_embd) # final layer norm\n",
        "        self.lm_head = nn.Linear(n_embd, vocab_size)\n",
        "\n",
        "\n",
        "        self.apply(self._init_weights)\n",
        "\n",
        "    def _init_weights(self, module):\n",
        "        if isinstance(module, nn.Linear):\n",
        "            torch.nn.init.normal_(module.weight, mean=0.0, std=0.02)\n",
        "            if module.bias is not None:\n",
        "                torch.nn.init.zeros_(module.bias)\n",
        "        elif isinstance(module, nn.Embedding):\n",
        "            torch.nn.init.normal_(module.weight, mean=0.0, std=0.02)\n",
        "\n",
        "    def forward(self, index, targets=None):\n",
        "        B, T = index.shape\n",
        "\n",
        "\n",
        "        # idx and targets are both (B,T) tensor of integers\n",
        "        tok_emb = self.token_embedding_table(index) # (B,T,C)\n",
        "        pos_emb = self.position_embedding_table(torch.arange(T, device=device)) # (T,C)\n",
        "        x = tok_emb + pos_emb # (B,T,C)\n",
        "        x = self.blocks(x) # (B,T,C)\n",
        "        x = self.ln_f(x) # (B,T,C)\n",
        "        logits = self.lm_head(x) # (B,T,vocab_size)\n",
        "\n",
        "        if targets is None:\n",
        "            loss = None\n",
        "        else:\n",
        "            B, T, C = logits.shape\n",
        "            logits = logits.view(B*T, C)\n",
        "            targets = targets.view(B*T)\n",
        "            loss = F.cross_entropy(logits, targets)\n",
        "\n",
        "        return logits, loss\n",
        "\n",
        "    def generate(self, index, max_new_tokens):\n",
        "        # index is (B, T) array of indices in the current context\n",
        "        for _ in range(max_new_tokens):\n",
        "            # crop idx to the last block_size tokens\n",
        "            index_cond = index[:, -block_size:]\n",
        "            # get the predictions\n",
        "            logits, loss = self.forward(index_cond)\n",
        "            # focus only on the last time step\n",
        "            logits = logits[:, -1, :] # becomes (B, C)\n",
        "            # apply softmax to get probabilities\n",
        "            probs = F.softmax(logits, dim=-1) # (B, C)\n",
        "            # sample from the distribution\n",
        "            index_next = torch.multinomial(probs, num_samples=1) # (B, 1)\n",
        "            # append sampled index to the running sequence\n",
        "            index = torch.cat((index, index_next), dim=1) # (B, T+1)\n",
        "        return index\n",
        "\n",
        "model = GPTLanguageModel(vocab_size)\n",
        "# print('loading model parameters...')\n",
        "# with open('model-01.pkl', 'rb') as f:\n",
        "#     model = pickle.load(f)\n",
        "# print('loaded successfully!')\n",
        "m = model.to(device)\n",
        "model"
      ],
      "metadata": {
        "colab": {
          "base_uri": "https://localhost:8080/"
        },
        "id": "W2mtmQEZqaFT",
        "outputId": "95c22e07-033a-4150-9da6-b988fc4d1517"
      },
      "execution_count": 11,
      "outputs": [
        {
          "output_type": "execute_result",
          "data": {
            "text/plain": [
              "GPTLanguageModel(\n",
              "  (token_embedding_table): Embedding(97, 384)\n",
              "  (position_embedding_table): Embedding(128, 384)\n",
              "  (blocks): Sequential(\n",
              "    (0): Block(\n",
              "      (sa): MultiHeadAttention(\n",
              "        (heads): ModuleList(\n",
              "          (0-3): 4 x Head(\n",
              "            (key): Linear(in_features=384, out_features=96, bias=False)\n",
              "            (query): Linear(in_features=384, out_features=96, bias=False)\n",
              "            (value): Linear(in_features=384, out_features=96, bias=False)\n",
              "            (dropout): Dropout(p=0.2, inplace=False)\n",
              "          )\n",
              "        )\n",
              "        (proj): Linear(in_features=384, out_features=384, bias=True)\n",
              "        (dropout): Dropout(p=0.2, inplace=False)\n",
              "      )\n",
              "      (ffwd): FeedFoward(\n",
              "        (net): Sequential(\n",
              "          (0): Linear(in_features=384, out_features=1536, bias=True)\n",
              "          (1): ReLU()\n",
              "          (2): Linear(in_features=1536, out_features=384, bias=True)\n",
              "          (3): Dropout(p=0.2, inplace=False)\n",
              "        )\n",
              "      )\n",
              "      (ln1): LayerNorm((384,), eps=1e-05, elementwise_affine=True)\n",
              "      (ln2): LayerNorm((384,), eps=1e-05, elementwise_affine=True)\n",
              "    )\n",
              "    (1): Block(\n",
              "      (sa): MultiHeadAttention(\n",
              "        (heads): ModuleList(\n",
              "          (0-3): 4 x Head(\n",
              "            (key): Linear(in_features=384, out_features=96, bias=False)\n",
              "            (query): Linear(in_features=384, out_features=96, bias=False)\n",
              "            (value): Linear(in_features=384, out_features=96, bias=False)\n",
              "            (dropout): Dropout(p=0.2, inplace=False)\n",
              "          )\n",
              "        )\n",
              "        (proj): Linear(in_features=384, out_features=384, bias=True)\n",
              "        (dropout): Dropout(p=0.2, inplace=False)\n",
              "      )\n",
              "      (ffwd): FeedFoward(\n",
              "        (net): Sequential(\n",
              "          (0): Linear(in_features=384, out_features=1536, bias=True)\n",
              "          (1): ReLU()\n",
              "          (2): Linear(in_features=1536, out_features=384, bias=True)\n",
              "          (3): Dropout(p=0.2, inplace=False)\n",
              "        )\n",
              "      )\n",
              "      (ln1): LayerNorm((384,), eps=1e-05, elementwise_affine=True)\n",
              "      (ln2): LayerNorm((384,), eps=1e-05, elementwise_affine=True)\n",
              "    )\n",
              "    (2): Block(\n",
              "      (sa): MultiHeadAttention(\n",
              "        (heads): ModuleList(\n",
              "          (0-3): 4 x Head(\n",
              "            (key): Linear(in_features=384, out_features=96, bias=False)\n",
              "            (query): Linear(in_features=384, out_features=96, bias=False)\n",
              "            (value): Linear(in_features=384, out_features=96, bias=False)\n",
              "            (dropout): Dropout(p=0.2, inplace=False)\n",
              "          )\n",
              "        )\n",
              "        (proj): Linear(in_features=384, out_features=384, bias=True)\n",
              "        (dropout): Dropout(p=0.2, inplace=False)\n",
              "      )\n",
              "      (ffwd): FeedFoward(\n",
              "        (net): Sequential(\n",
              "          (0): Linear(in_features=384, out_features=1536, bias=True)\n",
              "          (1): ReLU()\n",
              "          (2): Linear(in_features=1536, out_features=384, bias=True)\n",
              "          (3): Dropout(p=0.2, inplace=False)\n",
              "        )\n",
              "      )\n",
              "      (ln1): LayerNorm((384,), eps=1e-05, elementwise_affine=True)\n",
              "      (ln2): LayerNorm((384,), eps=1e-05, elementwise_affine=True)\n",
              "    )\n",
              "    (3): Block(\n",
              "      (sa): MultiHeadAttention(\n",
              "        (heads): ModuleList(\n",
              "          (0-3): 4 x Head(\n",
              "            (key): Linear(in_features=384, out_features=96, bias=False)\n",
              "            (query): Linear(in_features=384, out_features=96, bias=False)\n",
              "            (value): Linear(in_features=384, out_features=96, bias=False)\n",
              "            (dropout): Dropout(p=0.2, inplace=False)\n",
              "          )\n",
              "        )\n",
              "        (proj): Linear(in_features=384, out_features=384, bias=True)\n",
              "        (dropout): Dropout(p=0.2, inplace=False)\n",
              "      )\n",
              "      (ffwd): FeedFoward(\n",
              "        (net): Sequential(\n",
              "          (0): Linear(in_features=384, out_features=1536, bias=True)\n",
              "          (1): ReLU()\n",
              "          (2): Linear(in_features=1536, out_features=384, bias=True)\n",
              "          (3): Dropout(p=0.2, inplace=False)\n",
              "        )\n",
              "      )\n",
              "      (ln1): LayerNorm((384,), eps=1e-05, elementwise_affine=True)\n",
              "      (ln2): LayerNorm((384,), eps=1e-05, elementwise_affine=True)\n",
              "    )\n",
              "  )\n",
              "  (ln_f): LayerNorm((384,), eps=1e-05, elementwise_affine=True)\n",
              "  (lm_head): Linear(in_features=384, out_features=97, bias=True)\n",
              ")"
            ]
          },
          "metadata": {},
          "execution_count": 11
        }
      ]
    },
    {
      "cell_type": "markdown",
      "source": [
        "#### Training and Saving the Model"
      ],
      "metadata": {
        "id": "XbcqZLrlqwI3"
      }
    },
    {
      "cell_type": "code",
      "source": [
        "from tqdm import tqdm\n",
        "\n",
        "# Create an instance of EstimateLoss\n",
        "estimator = EstimateLoss(model, eval_iters, get_batch)\n",
        "\n",
        "# Initialize the Optimizer Adam with Weight Decay\n",
        "optimizer = torch.optim.AdamW(model.parameters(), lr=learning_rate)\n",
        "\n",
        "for iter in tqdm(range(max_iters)):\n",
        "    if iter % eval_iters == 0:\n",
        "        # Print the input sequence before encoding\n",
        "        xb, yb = get_batch('train')\n",
        "        print(f\"Input sequence: {decode(xb[0].tolist())}\")\n",
        "\n",
        "        losses = estimator.estimate_loss()\n",
        "        print(f\"step: {iter}, train loss: {losses['train']:.3f}, val loss: {losses['val']:.3f}\")\n",
        "\n",
        "    # sample a batch of data\n",
        "    xb, yb = get_batch('train')\n",
        "\n",
        "    # evaluate the loss\n",
        "    logits, loss = model.forward(xb, yb)\n",
        "    optimizer.zero_grad(set_to_none=True)\n",
        "    loss.backward()\n",
        "    optimizer.step()\n",
        "    # print(loss.item())\n",
        "\n",
        "with open('model-01.pkl', 'wb') as f:\n",
        "    pickle.dump(model, f)\n",
        "\n",
        "print('model saved')"
      ],
      "metadata": {
        "colab": {
          "base_uri": "https://localhost:8080/"
        },
        "id": "EvFe5hnf0VP4",
        "outputId": "26fcaf02-8203-40a0-8226-68d443e37365"
      },
      "execution_count": 19,
      "outputs": [
        {
          "output_type": "stream",
          "name": "stderr",
          "text": [
            "\r  0%|          | 0/10000 [00:00<?, ?it/s]"
          ]
        },
        {
          "output_type": "stream",
          "name": "stdout",
          "text": [
            "Input sequence: ck signals made with\n",
            "their wooden fingers or lips. Neither was there any sound to be heard\n",
            "anywhere throughout the wooden countr\n"
          ]
        },
        {
          "output_type": "stream",
          "name": "stderr",
          "text": [
            "  0%|          | 3/10000 [00:04<3:26:06,  1.24s/it] "
          ]
        },
        {
          "output_type": "stream",
          "name": "stdout",
          "text": [
            "step: 0, train loss: 2.320, val loss: 2.378\n"
          ]
        },
        {
          "output_type": "stream",
          "name": "stderr",
          "text": [
            "  1%|          | 99/10000 [00:10<10:29, 15.73it/s]"
          ]
        },
        {
          "output_type": "stream",
          "name": "stdout",
          "text": [
            "Input sequence: ne Rain of Stones. This second one was a Rain\n",
            "of People-and-Horse-and-Buggy. And some stones came with them.\"\n",
            "\n",
            "\"Will there be an\n"
          ]
        },
        {
          "output_type": "stream",
          "name": "stderr",
          "text": [
            "  1%|          | 103/10000 [00:15<1:28:40,  1.86it/s]"
          ]
        },
        {
          "output_type": "stream",
          "name": "stdout",
          "text": [
            "step: 100, train loss: 2.191, val loss: 2.244\n"
          ]
        },
        {
          "output_type": "stream",
          "name": "stderr",
          "text": [
            "  2%|▏         | 199/10000 [00:21<10:33, 15.48it/s]"
          ]
        },
        {
          "output_type": "stream",
          "name": "stdout",
          "text": [
            "Input sequence: The\n",
            "fruit was so daintily colored and so fragrant, and looked so appetizing\n",
            "and delicious that Dorothy stopped and exclaimed:\n",
            "\n",
            "\"\n"
          ]
        },
        {
          "output_type": "stream",
          "name": "stderr",
          "text": [
            "  2%|▏         | 203/10000 [00:26<1:29:17,  1.83it/s]"
          ]
        },
        {
          "output_type": "stream",
          "name": "stdout",
          "text": [
            "step: 200, train loss: 2.102, val loss: 2.158\n"
          ]
        },
        {
          "output_type": "stream",
          "name": "stderr",
          "text": [
            "  3%|▎         | 299/10000 [00:32<10:31, 15.35it/s]"
          ]
        },
        {
          "output_type": "stream",
          "name": "stdout",
          "text": [
            "Input sequence:  the little\n",
            "man did not watch him long. Instead, he drew a leathern case from his\n",
            "pocket and took from it several sharp knives, \n"
          ]
        },
        {
          "output_type": "stream",
          "name": "stderr",
          "text": [
            "  3%|▎         | 303/10000 [00:37<1:29:32,  1.81it/s]"
          ]
        },
        {
          "output_type": "stream",
          "name": "stdout",
          "text": [
            "step: 300, train loss: 2.020, val loss: 2.103\n"
          ]
        },
        {
          "output_type": "stream",
          "name": "stderr",
          "text": [
            "  4%|▍         | 399/10000 [00:44<10:27, 15.30it/s]"
          ]
        },
        {
          "output_type": "stream",
          "name": "stdout",
          "text": [
            "Input sequence:                                                      13\n",
            "\n",
            "  2  THE GLASS CITY                                                    \n"
          ]
        },
        {
          "output_type": "stream",
          "name": "stderr",
          "text": [
            "  4%|▍         | 403/10000 [00:49<1:28:42,  1.80it/s]"
          ]
        },
        {
          "output_type": "stream",
          "name": "stdout",
          "text": [
            "step: 400, train loss: 1.967, val loss: 2.041\n"
          ]
        },
        {
          "output_type": "stream",
          "name": "stderr",
          "text": [
            "  5%|▍         | 499/10000 [00:55<10:37, 14.90it/s]"
          ]
        },
        {
          "output_type": "stream",
          "name": "stdout",
          "text": [
            "Input sequence:  every direction as he tumbled through space. Also, turning\n",
            "her head, she found that she could see the boy beside her, who had u\n"
          ]
        },
        {
          "output_type": "stream",
          "name": "stderr",
          "text": [
            "  5%|▌         | 503/10000 [01:00<1:28:08,  1.80it/s]"
          ]
        },
        {
          "output_type": "stream",
          "name": "stdout",
          "text": [
            "step: 500, train loss: 1.897, val loss: 1.994\n"
          ]
        },
        {
          "output_type": "stream",
          "name": "stderr",
          "text": [
            "  6%|▌         | 599/10000 [01:06<10:32, 14.85it/s]"
          ]
        },
        {
          "output_type": "stream",
          "name": "stdout",
          "text": [
            "Input sequence: ng passed through it.\"\n",
            "\n",
            "\"Then we're all right,\" said the girl, \"for if the dragon went the other\n",
            "way she can't poss'bly get to u\n"
          ]
        },
        {
          "output_type": "stream",
          "name": "stderr",
          "text": [
            "  6%|▌         | 603/10000 [01:11<1:28:13,  1.78it/s]"
          ]
        },
        {
          "output_type": "stream",
          "name": "stdout",
          "text": [
            "step: 600, train loss: 1.860, val loss: 1.965\n"
          ]
        },
        {
          "output_type": "stream",
          "name": "stderr",
          "text": [
            "  7%|▋         | 699/10000 [01:18<10:24, 14.90it/s]"
          ]
        },
        {
          "output_type": "stream",
          "name": "stdout",
          "text": [
            "Input sequence: sleeve and nothing concealed about my person. Also, my hat is quite\n",
            "empty.\" He took off his hat and held it upside down, shaking\n"
          ]
        },
        {
          "output_type": "stream",
          "name": "stderr",
          "text": [
            "  7%|▋         | 703/10000 [01:23<1:28:15,  1.76it/s]"
          ]
        },
        {
          "output_type": "stream",
          "name": "stdout",
          "text": [
            "step: 700, train loss: 1.801, val loss: 1.919\n"
          ]
        },
        {
          "output_type": "stream",
          "name": "stderr",
          "text": [
            "  8%|▊         | 799/10000 [01:29<10:23, 14.75it/s]"
          ]
        },
        {
          "output_type": "stream",
          "name": "stdout",
          "text": [
            "Input sequence: ,\" said the other. \"I am a great inventor, you must know, and\n",
            "I manufacture my products in this lonely spot.\"\n",
            "\n",
            "\"What are your pr\n"
          ]
        },
        {
          "output_type": "stream",
          "name": "stderr",
          "text": [
            "  8%|▊         | 803/10000 [01:34<1:27:47,  1.75it/s]"
          ]
        },
        {
          "output_type": "stream",
          "name": "stdout",
          "text": [
            "step: 800, train loss: 1.770, val loss: 1.898\n"
          ]
        },
        {
          "output_type": "stream",
          "name": "stderr",
          "text": [
            "  9%|▉         | 899/10000 [01:41<10:14, 14.82it/s]"
          ]
        },
        {
          "output_type": "stream",
          "name": "stdout",
          "text": [
            "Input sequence: e replied; \"and in my satchel are other useful things to fight\n",
            "with.\"\n",
            "\n",
            "\"What the Gargoyles most dread is a noise,\" said the man'\n"
          ]
        },
        {
          "output_type": "stream",
          "name": "stderr",
          "text": [
            "  9%|▉         | 903/10000 [01:46<1:26:44,  1.75it/s]"
          ]
        },
        {
          "output_type": "stream",
          "name": "stdout",
          "text": [
            "step: 900, train loss: 1.739, val loss: 1.847\n"
          ]
        },
        {
          "output_type": "stream",
          "name": "stderr",
          "text": [
            " 10%|▉         | 999/10000 [01:53<10:16, 14.59it/s]"
          ]
        },
        {
          "output_type": "stream",
          "name": "stdout",
          "text": [
            "Input sequence: wo near his head\n",
            "and two near his tail. They were a bit wiggley, but secure enough if\n",
            "only the harness held together.\n",
            "\n",
            "The other\n"
          ]
        },
        {
          "output_type": "stream",
          "name": "stderr",
          "text": [
            " 10%|█         | 1003/10000 [01:58<1:25:49,  1.75it/s]"
          ]
        },
        {
          "output_type": "stream",
          "name": "stdout",
          "text": [
            "step: 1000, train loss: 1.696, val loss: 1.834\n"
          ]
        },
        {
          "output_type": "stream",
          "name": "stderr",
          "text": [
            " 11%|█         | 1099/10000 [02:04<10:08, 14.62it/s]"
          ]
        },
        {
          "output_type": "stream",
          "name": "stdout",
          "text": [
            "Input sequence: al\n",
            "there to enable him to prepare several new tricks which he had learned\n",
            "from some of the jugglers in the circus, and he had pa\n"
          ]
        },
        {
          "output_type": "stream",
          "name": "stderr",
          "text": [
            " 11%|█         | 1103/10000 [02:09<1:25:21,  1.74it/s]"
          ]
        },
        {
          "output_type": "stream",
          "name": "stdout",
          "text": [
            "step: 1100, train loss: 1.661, val loss: 1.813\n"
          ]
        },
        {
          "output_type": "stream",
          "name": "stderr",
          "text": [
            " 12%|█▏        | 1199/10000 [02:16<10:11, 14.40it/s]"
          ]
        },
        {
          "output_type": "stream",
          "name": "stdout",
          "text": [
            "Input sequence: es. They began to wonder if there\n",
            "were no people to inhabit this magnificent city of the inner world.\n",
            "\n",
            "Suddenly a man appeared t\n"
          ]
        },
        {
          "output_type": "stream",
          "name": "stderr",
          "text": [
            " 12%|█▏        | 1203/10000 [02:21<1:25:54,  1.71it/s]"
          ]
        },
        {
          "output_type": "stream",
          "name": "stdout",
          "text": [
            "step: 1200, train loss: 1.638, val loss: 1.777\n"
          ]
        },
        {
          "output_type": "stream",
          "name": "stderr",
          "text": [
            " 13%|█▎        | 1299/10000 [02:28<10:08, 14.30it/s]"
          ]
        },
        {
          "output_type": "stream",
          "name": "stdout",
          "text": [
            "Input sequence:  so confident.\n",
            "\n",
            "\"Those wooden things are impossible to hurt,\" he said, \"and all the\n",
            "damage Jim has done to them is to knock a fe\n"
          ]
        },
        {
          "output_type": "stream",
          "name": "stderr",
          "text": [
            " 13%|█▎        | 1303/10000 [02:33<1:24:47,  1.71it/s]"
          ]
        },
        {
          "output_type": "stream",
          "name": "stdout",
          "text": [
            "step: 1300, train loss: 1.619, val loss: 1.763\n"
          ]
        },
        {
          "output_type": "stream",
          "name": "stderr",
          "text": [
            " 14%|█▍        | 1399/10000 [02:40<09:54, 14.48it/s]"
          ]
        },
        {
          "output_type": "stream",
          "name": "stdout",
          "text": [
            "Input sequence: ld ornaments decorating his breast; but his bald head and\n",
            "wrinkled features made him appear more amusing than impressive.\n",
            "\n",
            "Ozma \n"
          ]
        },
        {
          "output_type": "stream",
          "name": "stderr",
          "text": [
            " 14%|█▍        | 1403/10000 [02:45<1:23:40,  1.71it/s]"
          ]
        },
        {
          "output_type": "stream",
          "name": "stdout",
          "text": [
            "step: 1400, train loss: 1.582, val loss: 1.758\n"
          ]
        },
        {
          "output_type": "stream",
          "name": "stderr",
          "text": [
            " 15%|█▍        | 1499/10000 [02:52<09:49, 14.41it/s]"
          ]
        },
        {
          "output_type": "stream",
          "name": "stdout",
          "text": [
            "Input sequence:  thing is true,\n",
            "because since the time of that interview there is no piglet to be found\n",
            "anywhere.\"\n",
            "\n",
            "[Illustration: EUREKA IN COU\n"
          ]
        },
        {
          "output_type": "stream",
          "name": "stderr",
          "text": [
            " 15%|█▌        | 1503/10000 [02:57<1:22:58,  1.71it/s]"
          ]
        },
        {
          "output_type": "stream",
          "name": "stdout",
          "text": [
            "step: 1500, train loss: 1.575, val loss: 1.744\n"
          ]
        },
        {
          "output_type": "stream",
          "name": "stderr",
          "text": [
            " 16%|█▌        | 1599/10000 [03:03<09:49, 14.24it/s]"
          ]
        },
        {
          "output_type": "stream",
          "name": "stdout",
          "text": [
            "Input sequence: , Billina and Eureka, make up and be\n",
            "friends, I'll take my Magic Belt and wish you both home again,\n",
            "_immejitly_. So, there!\"\n",
            "\n",
            "Th\n"
          ]
        },
        {
          "output_type": "stream",
          "name": "stderr",
          "text": [
            " 16%|█▌        | 1603/10000 [03:09<1:21:46,  1.71it/s]"
          ]
        },
        {
          "output_type": "stream",
          "name": "stdout",
          "text": [
            "step: 1600, train loss: 1.546, val loss: 1.708\n"
          ]
        },
        {
          "output_type": "stream",
          "name": "stderr",
          "text": [
            " 17%|█▋        | 1699/10000 [03:15<09:42, 14.25it/s]"
          ]
        },
        {
          "output_type": "stream",
          "name": "stdout",
          "text": [
            "Input sequence: n was a grand success, and when it had\n",
            "returned to the palace the citizens crowded into the great Throne Room\n",
            "to see the Wizard \n"
          ]
        },
        {
          "output_type": "stream",
          "name": "stderr",
          "text": [
            " 17%|█▋        | 1703/10000 [03:20<1:21:17,  1.70it/s]"
          ]
        },
        {
          "output_type": "stream",
          "name": "stdout",
          "text": [
            "step: 1700, train loss: 1.535, val loss: 1.707\n"
          ]
        },
        {
          "output_type": "stream",
          "name": "stderr",
          "text": [
            " 18%|█▊        | 1799/10000 [03:27<09:32, 14.32it/s]"
          ]
        },
        {
          "output_type": "stream",
          "name": "stdout",
          "text": [
            "Input sequence: at them than it would be for Jim to eat you.\"\n",
            "\n",
            "\"And that's just what I shall do if you don't let those little balls of\n",
            "pork alon\n"
          ]
        },
        {
          "output_type": "stream",
          "name": "stderr",
          "text": [
            " 18%|█▊        | 1803/10000 [03:32<1:20:47,  1.69it/s]"
          ]
        },
        {
          "output_type": "stream",
          "name": "stdout",
          "text": [
            "step: 1800, train loss: 1.518, val loss: 1.661\n"
          ]
        },
        {
          "output_type": "stream",
          "name": "stderr",
          "text": [
            " 19%|█▉        | 1899/10000 [03:39<09:26, 14.31it/s]"
          ]
        },
        {
          "output_type": "stream",
          "name": "stdout",
          "text": [
            "Input sequence: to the platform again. Had there\n",
            "been any doors or windows in the lower rooms, or had not the boards of\n",
            "the house been so thick \n"
          ]
        },
        {
          "output_type": "stream",
          "name": "stderr",
          "text": [
            " 19%|█▉        | 1903/10000 [03:44<1:19:57,  1.69it/s]"
          ]
        },
        {
          "output_type": "stream",
          "name": "stdout",
          "text": [
            "step: 1900, train loss: 1.495, val loss: 1.677\n"
          ]
        },
        {
          "output_type": "stream",
          "name": "stderr",
          "text": [
            " 20%|█▉        | 1999/10000 [03:51<09:24, 14.17it/s]"
          ]
        },
        {
          "output_type": "stream",
          "name": "stdout",
          "text": [
            "Input sequence: by those saucy dragonettes. No one knows what the mother\n",
            "might do.\"\n",
            "\n",
            "They now moved on again, creeping slowly up another steep i\n"
          ]
        },
        {
          "output_type": "stream",
          "name": "stderr",
          "text": [
            " 20%|██        | 2003/10000 [03:56<1:18:39,  1.69it/s]"
          ]
        },
        {
          "output_type": "stream",
          "name": "stdout",
          "text": [
            "step: 2000, train loss: 1.481, val loss: 1.653\n"
          ]
        },
        {
          "output_type": "stream",
          "name": "stderr",
          "text": [
            " 21%|██        | 2099/10000 [04:03<09:21, 14.08it/s]"
          ]
        },
        {
          "output_type": "stream",
          "name": "stdout",
          "text": [
            "Input sequence: e beauties of nature,\n",
            "the dainty flowers and trees, the green fields and the clear blue of the\n",
            "sky.\"\n",
            "\n",
            "\"How about the birds and b\n"
          ]
        },
        {
          "output_type": "stream",
          "name": "stderr",
          "text": [
            " 21%|██        | 2103/10000 [04:08<1:17:43,  1.69it/s]"
          ]
        },
        {
          "output_type": "stream",
          "name": "stdout",
          "text": [
            "step: 2100, train loss: 1.463, val loss: 1.653\n"
          ]
        },
        {
          "output_type": "stream",
          "name": "stderr",
          "text": [
            " 22%|██▏       | 2199/10000 [04:15<09:19, 13.93it/s]"
          ]
        },
        {
          "output_type": "stream",
          "name": "stdout",
          "text": [
            "Input sequence:  they are made of wood, and as there is no night here\n",
            "they select a certain time of the day in which to sleep or doze.\"\n",
            "\n",
            "\"I feel\n"
          ]
        },
        {
          "output_type": "stream",
          "name": "stderr",
          "text": [
            " 22%|██▏       | 2203/10000 [04:21<1:16:56,  1.69it/s]"
          ]
        },
        {
          "output_type": "stream",
          "name": "stdout",
          "text": [
            "step: 2200, train loss: 1.445, val loss: 1.633\n"
          ]
        },
        {
          "output_type": "stream",
          "name": "stderr",
          "text": [
            " 23%|██▎       | 2299/10000 [04:27<09:10, 13.99it/s]"
          ]
        },
        {
          "output_type": "stream",
          "name": "stdout",
          "text": [
            "Input sequence: it Dorothy's\n",
            "white kitten crept out and ran up the stairs.\"\n",
            "\n",
            "Hearing this, Dorothy and the Wizard exchanged startled glances, fo\n"
          ]
        },
        {
          "output_type": "stream",
          "name": "stderr",
          "text": [
            " 23%|██▎       | 2303/10000 [04:33<1:16:24,  1.68it/s]"
          ]
        },
        {
          "output_type": "stream",
          "name": "stdout",
          "text": [
            "step: 2300, train loss: 1.439, val loss: 1.645\n"
          ]
        },
        {
          "output_type": "stream",
          "name": "stderr",
          "text": [
            " 24%|██▍       | 2399/10000 [04:39<09:07, 13.89it/s]"
          ]
        },
        {
          "output_type": "stream",
          "name": "stdout",
          "text": [
            "Input sequence: ESSON.]\n",
            "\n",
            "I am sorry to record the fact that Jim was not only ashamed of his\n",
            "defeat but for a moment lost control of his temper. \n"
          ]
        },
        {
          "output_type": "stream",
          "name": "stderr",
          "text": [
            " 24%|██▍       | 2403/10000 [04:45<1:18:00,  1.62it/s]"
          ]
        },
        {
          "output_type": "stream",
          "name": "stdout",
          "text": [
            "step: 2400, train loss: 1.429, val loss: 1.620\n"
          ]
        },
        {
          "output_type": "stream",
          "name": "stderr",
          "text": [
            " 25%|██▍       | 2499/10000 [04:52<08:53, 14.06it/s]"
          ]
        },
        {
          "output_type": "stream",
          "name": "stdout",
          "text": [
            "Input sequence: o come down again. So what\n",
            "could I do but tell \"what happened to the Wizard afterward\"? You will\n",
            "find him in these pages, just t\n"
          ]
        },
        {
          "output_type": "stream",
          "name": "stderr",
          "text": [
            " 25%|██▌       | 2503/10000 [04:57<1:14:08,  1.69it/s]"
          ]
        },
        {
          "output_type": "stream",
          "name": "stdout",
          "text": [
            "step: 2500, train loss: 1.420, val loss: 1.607\n"
          ]
        },
        {
          "output_type": "stream",
          "name": "stderr",
          "text": [
            " 26%|██▌       | 2599/10000 [05:04<08:47, 14.04it/s]"
          ]
        },
        {
          "output_type": "stream",
          "name": "stdout",
          "text": [
            "Input sequence: ,\" exclaimed the girl, much distressed.\n",
            "\"The Gurgles will get her, sure!\"\n",
            "\n",
            "\"Ha, ha!\" chuckled the old cab-horse; \"they're not 'G\n"
          ]
        },
        {
          "output_type": "stream",
          "name": "stderr",
          "text": [
            " 26%|██▌       | 2603/10000 [05:09<1:12:59,  1.69it/s]"
          ]
        },
        {
          "output_type": "stream",
          "name": "stdout",
          "text": [
            "step: 2600, train loss: 1.402, val loss: 1.606\n"
          ]
        },
        {
          "output_type": "stream",
          "name": "stderr",
          "text": [
            " 27%|██▋       | 2699/10000 [05:16<08:38, 14.07it/s]"
          ]
        },
        {
          "output_type": "stream",
          "name": "stdout",
          "text": [
            "Input sequence: refully.\n",
            "\n",
            "\"To be sure,\" said the other. \"I am a great inventor, you must know, and\n",
            "I manufacture my products in this lonely spot\n"
          ]
        },
        {
          "output_type": "stream",
          "name": "stderr",
          "text": [
            " 27%|██▋       | 2703/10000 [05:21<1:12:16,  1.68it/s]"
          ]
        },
        {
          "output_type": "stream",
          "name": "stdout",
          "text": [
            "step: 2700, train loss: 1.385, val loss: 1.614\n"
          ]
        },
        {
          "output_type": "stream",
          "name": "stderr",
          "text": [
            " 28%|██▊       | 2799/10000 [05:28<08:27, 14.18it/s]"
          ]
        },
        {
          "output_type": "stream",
          "name": "stdout",
          "text": [
            "Input sequence: ka quickly followed him,\n",
            "and soon they were all standing together upon the platform, with eight\n",
            "of the much prized wooden wings \n"
          ]
        },
        {
          "output_type": "stream",
          "name": "stderr",
          "text": [
            " 28%|██▊       | 2803/10000 [05:33<1:11:29,  1.68it/s]"
          ]
        },
        {
          "output_type": "stream",
          "name": "stdout",
          "text": [
            "step: 2800, train loss: 1.378, val loss: 1.599\n"
          ]
        },
        {
          "output_type": "stream",
          "name": "stderr",
          "text": [
            " 29%|██▉       | 2899/10000 [05:40<08:22, 14.13it/s]"
          ]
        },
        {
          "output_type": "stream",
          "name": "stdout",
          "text": [
            "Input sequence: n a grave?\" asked Dorothy.\n",
            "\n",
            "\"Don't interrupt, little girl,\" said the Woggle-Bug. \"When I get my\n",
            "thoughts arranged in good order \n"
          ]
        },
        {
          "output_type": "stream",
          "name": "stderr",
          "text": [
            " 29%|██▉       | 2903/10000 [05:46<1:11:03,  1.66it/s]"
          ]
        },
        {
          "output_type": "stream",
          "name": "stdout",
          "text": [
            "step: 2900, train loss: 1.367, val loss: 1.583\n"
          ]
        },
        {
          "output_type": "stream",
          "name": "stderr",
          "text": [
            " 30%|██▉       | 2999/10000 [05:52<08:17, 14.07it/s]"
          ]
        },
        {
          "output_type": "stream",
          "name": "stdout",
          "text": [
            "Input sequence: othy. \"Are these bears here?\"\n",
            "\n",
            "\"That is the one evil of our country,\" answered the invisible man. \"Many\n",
            "large and fierce bears r\n"
          ]
        },
        {
          "output_type": "stream",
          "name": "stderr",
          "text": [
            " 30%|███       | 3003/10000 [05:58<1:09:47,  1.67it/s]"
          ]
        },
        {
          "output_type": "stream",
          "name": "stdout",
          "text": [
            "step: 3000, train loss: 1.367, val loss: 1.620\n"
          ]
        },
        {
          "output_type": "stream",
          "name": "stderr",
          "text": [
            " 31%|███       | 3099/10000 [06:05<08:16, 13.91it/s]"
          ]
        },
        {
          "output_type": "stream",
          "name": "stdout",
          "text": [
            "Input sequence: ept your kind offer with gratitude, gracious Princess,\" the little\n",
            "man said, in a soft voice, and they could all see that tear-d\n"
          ]
        },
        {
          "output_type": "stream",
          "name": "stderr",
          "text": [
            " 31%|███       | 3103/10000 [06:10<1:08:47,  1.67it/s]"
          ]
        },
        {
          "output_type": "stream",
          "name": "stdout",
          "text": [
            "step: 3100, train loss: 1.347, val loss: 1.587\n"
          ]
        },
        {
          "output_type": "stream",
          "name": "stderr",
          "text": [
            " 32%|███▏      | 3199/10000 [06:17<08:02, 14.09it/s]"
          ]
        },
        {
          "output_type": "stream",
          "name": "stdout",
          "text": [
            "Input sequence: t, and I see her pounce upon the innocent\n",
            "creature and eat it up----\"\n",
            "\n",
            "\"Are you still seeing with your mind's eye?\" enquired the\n"
          ]
        },
        {
          "output_type": "stream",
          "name": "stderr",
          "text": [
            " 32%|███▏      | 3203/10000 [06:22<1:07:35,  1.68it/s]"
          ]
        },
        {
          "output_type": "stream",
          "name": "stdout",
          "text": [
            "step: 3200, train loss: 1.330, val loss: 1.573\n"
          ]
        },
        {
          "output_type": "stream",
          "name": "stderr",
          "text": [
            " 33%|███▎      | 3299/10000 [06:29<07:52, 14.18it/s]"
          ]
        },
        {
          "output_type": "stream",
          "name": "stdout",
          "text": [
            "Input sequence: any of the Gargoyles act badly, and have to be put in jail, they are\n",
            "brought here and their wings unhooked and taken away from t\n"
          ]
        },
        {
          "output_type": "stream",
          "name": "stderr",
          "text": [
            " 33%|███▎      | 3303/10000 [06:34<1:06:25,  1.68it/s]"
          ]
        },
        {
          "output_type": "stream",
          "name": "stdout",
          "text": [
            "step: 3300, train loss: 1.327, val loss: 1.572\n"
          ]
        },
        {
          "output_type": "stream",
          "name": "stderr",
          "text": [
            " 34%|███▍      | 3399/10000 [06:41<07:51, 14.01it/s]"
          ]
        },
        {
          "output_type": "stream",
          "name": "stdout",
          "text": [
            "Input sequence: gether again and hitched Jim to the buggy. Then, with the\n",
            "Wizard's help, he tried to fasten some of the wings to the old\n",
            "cab-hor\n"
          ]
        },
        {
          "output_type": "stream",
          "name": "stderr",
          "text": [
            " 34%|███▍      | 3403/10000 [06:46<1:05:41,  1.67it/s]"
          ]
        },
        {
          "output_type": "stream",
          "name": "stdout",
          "text": [
            "step: 3400, train loss: 1.321, val loss: 1.565\n"
          ]
        },
        {
          "output_type": "stream",
          "name": "stderr",
          "text": [
            " 35%|███▍      | 3499/10000 [06:53<07:52, 13.75it/s]"
          ]
        },
        {
          "output_type": "stream",
          "name": "stdout",
          "text": [
            "Input sequence:  Swiss Cheese, and I will acknowledge that I\n",
            "supplied a superior article, which was in great demand. Also I made\n",
            "pores for porou\n"
          ]
        },
        {
          "output_type": "stream",
          "name": "stderr",
          "text": [
            " 35%|███▌      | 3503/10000 [06:58<1:04:54,  1.67it/s]"
          ]
        },
        {
          "output_type": "stream",
          "name": "stdout",
          "text": [
            "step: 3500, train loss: 1.323, val loss: 1.560\n"
          ]
        },
        {
          "output_type": "stream",
          "name": "stderr",
          "text": [
            " 36%|███▌      | 3599/10000 [07:05<07:46, 13.73it/s]"
          ]
        },
        {
          "output_type": "stream",
          "name": "stdout",
          "text": [
            "Input sequence: f the cave, brought the piglets\n",
            "out one by one, and allowed them to run around as much as they pleased.\n",
            "\n",
            "\"My dears,\" he said to \n"
          ]
        },
        {
          "output_type": "stream",
          "name": "stderr",
          "text": [
            " 36%|███▌      | 3603/10000 [07:11<1:05:11,  1.64it/s]"
          ]
        },
        {
          "output_type": "stream",
          "name": "stdout",
          "text": [
            "step: 3600, train loss: 1.302, val loss: 1.545\n"
          ]
        },
        {
          "output_type": "stream",
          "name": "stderr",
          "text": [
            " 37%|███▋      | 3699/10000 [07:18<07:28, 14.04it/s]"
          ]
        },
        {
          "output_type": "stream",
          "name": "stdout",
          "text": [
            "Input sequence: Gradually the balloon grew bigger, which was proof that it was settling\n",
            "down upon the Land of the Mangaboos. Dorothy was surpris\n"
          ]
        },
        {
          "output_type": "stream",
          "name": "stderr",
          "text": [
            " 37%|███▋      | 3703/10000 [07:23<1:02:42,  1.67it/s]"
          ]
        },
        {
          "output_type": "stream",
          "name": "stdout",
          "text": [
            "step: 3700, train loss: 1.299, val loss: 1.551\n"
          ]
        },
        {
          "output_type": "stream",
          "name": "stderr",
          "text": [
            " 38%|███▊      | 3799/10000 [07:30<07:22, 14.02it/s]"
          ]
        },
        {
          "output_type": "stream",
          "name": "stdout",
          "text": [
            "Input sequence: ow?\" asked the Wizard.\n",
            "\n",
            "\"I will show you,\" was the reply. \"Step this way, please.\"\n",
            "\n",
            "He led them within another but smaller circl\n"
          ]
        },
        {
          "output_type": "stream",
          "name": "stderr",
          "text": [
            " 38%|███▊      | 3803/10000 [07:35<1:01:38,  1.68it/s]"
          ]
        },
        {
          "output_type": "stream",
          "name": "stdout",
          "text": [
            "step: 3800, train loss: 1.309, val loss: 1.538\n"
          ]
        },
        {
          "output_type": "stream",
          "name": "stderr",
          "text": [
            " 39%|███▉      | 3899/10000 [07:42<07:10, 14.17it/s]"
          ]
        },
        {
          "output_type": "stream",
          "name": "stdout",
          "text": [
            "Input sequence: t on the\n",
            "dressing-table. I want to play with it.\"\n",
            "\n",
            "Jellia at once departed on the errand, and she was gone so long that\n",
            "they had\n"
          ]
        },
        {
          "output_type": "stream",
          "name": "stderr",
          "text": [
            " 39%|███▉      | 3903/10000 [07:47<1:00:56,  1.67it/s]"
          ]
        },
        {
          "output_type": "stream",
          "name": "stdout",
          "text": [
            "step: 3900, train loss: 1.279, val loss: 1.531\n"
          ]
        },
        {
          "output_type": "stream",
          "name": "stderr",
          "text": [
            " 40%|███▉      | 3999/10000 [07:54<07:05, 14.10it/s]"
          ]
        },
        {
          "output_type": "stream",
          "name": "stdout",
          "text": [
            "Input sequence: f nothing.\"\n",
            "\n",
            "He placed the hat upon the glass floor, made a pass with his hand, and\n",
            "then removed the hat, displaying a little wh\n"
          ]
        },
        {
          "output_type": "stream",
          "name": "stderr",
          "text": [
            " 40%|████      | 4003/10000 [07:59<1:00:05,  1.66it/s]"
          ]
        },
        {
          "output_type": "stream",
          "name": "stdout",
          "text": [
            "step: 4000, train loss: 1.268, val loss: 1.532\n"
          ]
        },
        {
          "output_type": "stream",
          "name": "stderr",
          "text": [
            " 41%|████      | 4099/10000 [08:06<07:02, 13.95it/s]"
          ]
        },
        {
          "output_type": "stream",
          "name": "stdout",
          "text": [
            "Input sequence:  in his cold, calm voice:\n",
            "\n",
            "\"You are indeed a wonderful Wizard, and your powers are greater than\n",
            "those of my Sorcerer.\"\n",
            "\n",
            "\"He will\n"
          ]
        },
        {
          "output_type": "stream",
          "name": "stderr",
          "text": [
            " 41%|████      | 4103/10000 [08:12<59:11,  1.66it/s]  "
          ]
        },
        {
          "output_type": "stream",
          "name": "stdout",
          "text": [
            "step: 4100, train loss: 1.265, val loss: 1.518\n"
          ]
        },
        {
          "output_type": "stream",
          "name": "stderr",
          "text": [
            " 42%|████▏     | 4199/10000 [08:19<06:54, 14.00it/s]"
          ]
        },
        {
          "output_type": "stream",
          "name": "stdout",
          "text": [
            "Input sequence: d together again with cords and bits of wire. The\n",
            "buggy seemed almost new, for it had a shiny top and side curtains.\n",
            "Getting aro\n"
          ]
        },
        {
          "output_type": "stream",
          "name": "stderr",
          "text": [
            " 42%|████▏     | 4203/10000 [08:24<58:04,  1.66it/s]  "
          ]
        },
        {
          "output_type": "stream",
          "name": "stdout",
          "text": [
            "step: 4200, train loss: 1.260, val loss: 1.532\n"
          ]
        },
        {
          "output_type": "stream",
          "name": "stderr",
          "text": [
            " 43%|████▎     | 4299/10000 [08:31<06:49, 13.91it/s]"
          ]
        },
        {
          "output_type": "stream",
          "name": "stdout",
          "text": [
            "Input sequence: here being no night to divide the hours into days--our friends\n",
            "were not disturbed in any way. They were even permitted to occupy\n"
          ]
        },
        {
          "output_type": "stream",
          "name": "stderr",
          "text": [
            " 43%|████▎     | 4303/10000 [08:36<56:46,  1.67it/s]  "
          ]
        },
        {
          "output_type": "stream",
          "name": "stdout",
          "text": [
            "step: 4300, train loss: 1.250, val loss: 1.544\n"
          ]
        },
        {
          "output_type": "stream",
          "name": "stderr",
          "text": [
            " 44%|████▍     | 4399/10000 [08:43<06:42, 13.92it/s]"
          ]
        },
        {
          "output_type": "stream",
          "name": "stdout",
          "text": [
            "Input sequence: place at all,\" answered the man with the braids; \"that is, not\n",
            "recently. Once I lived on top the earth, but for many years I hav\n"
          ]
        },
        {
          "output_type": "stream",
          "name": "stderr",
          "text": [
            " 44%|████▍     | 4403/10000 [08:48<55:56,  1.67it/s]  "
          ]
        },
        {
          "output_type": "stream",
          "name": "stdout",
          "text": [
            "step: 4400, train loss: 1.243, val loss: 1.527\n"
          ]
        },
        {
          "output_type": "stream",
          "name": "stderr",
          "text": [
            " 45%|████▍     | 4499/10000 [08:55<06:36, 13.86it/s]"
          ]
        },
        {
          "output_type": "stream",
          "name": "stdout",
          "text": [
            "Input sequence: ss looked at the strange\n",
            "piglets as if she were as truly astonished as any vegetable person could\n",
            "be. But afterward she said:\n",
            "\n",
            "\"\n"
          ]
        },
        {
          "output_type": "stream",
          "name": "stderr",
          "text": [
            " 45%|████▌     | 4503/10000 [09:00<54:39,  1.68it/s]  "
          ]
        },
        {
          "output_type": "stream",
          "name": "stdout",
          "text": [
            "step: 4500, train loss: 1.256, val loss: 1.528\n"
          ]
        },
        {
          "output_type": "stream",
          "name": "stderr",
          "text": [
            " 46%|████▌     | 4599/10000 [09:07<06:26, 13.96it/s]"
          ]
        },
        {
          "output_type": "stream",
          "name": "stdout",
          "text": [
            "Input sequence: alace.\n",
            "\n",
            "[Illustration]\n",
            "\n",
            "\n",
            "\n",
            "CHAPTER 15.\n",
            "\n",
            "OLD FRIENDS ARE REUNITED\n",
            "\n",
            "\n",
            "Many servants dressed in handsome uniforms stood ready to welc\n"
          ]
        },
        {
          "output_type": "stream",
          "name": "stderr",
          "text": [
            " 46%|████▌     | 4603/10000 [09:13<53:51,  1.67it/s]  "
          ]
        },
        {
          "output_type": "stream",
          "name": "stdout",
          "text": [
            "step: 4600, train loss: 1.241, val loss: 1.512\n"
          ]
        },
        {
          "output_type": "stream",
          "name": "stderr",
          "text": [
            " 47%|████▋     | 4699/10000 [09:20<06:19, 13.97it/s]"
          ]
        },
        {
          "output_type": "stream",
          "name": "stdout",
          "text": [
            "Input sequence: grass watching Jim, who was still busily eating,\n",
            "Eureka said:\n",
            "\n",
            "\"I don't believe you are a Wizard at all!\"\n",
            "\n",
            "\"No,\" answered the li\n"
          ]
        },
        {
          "output_type": "stream",
          "name": "stderr",
          "text": [
            " 47%|████▋     | 4703/10000 [09:25<53:06,  1.66it/s]  "
          ]
        },
        {
          "output_type": "stream",
          "name": "stdout",
          "text": [
            "step: 4700, train loss: 1.231, val loss: 1.530\n"
          ]
        },
        {
          "output_type": "stream",
          "name": "stderr",
          "text": [
            " 48%|████▊     | 4799/10000 [09:32<06:12, 13.95it/s]"
          ]
        },
        {
          "output_type": "stream",
          "name": "stdout",
          "text": [
            "Input sequence: the piglets will be perfectly safe, hereafter, as far as I am\n",
            "concerned.\"\n",
            "\n",
            "\"That is right, Eureka,\" remarked the Wizard, earnest\n"
          ]
        },
        {
          "output_type": "stream",
          "name": "stderr",
          "text": [
            " 48%|████▊     | 4803/10000 [09:37<52:08,  1.66it/s]  "
          ]
        },
        {
          "output_type": "stream",
          "name": "stdout",
          "text": [
            "step: 4800, train loss: 1.225, val loss: 1.525\n"
          ]
        },
        {
          "output_type": "stream",
          "name": "stderr",
          "text": [
            " 49%|████▉     | 4899/10000 [09:44<06:04, 14.00it/s]"
          ]
        },
        {
          "output_type": "stream",
          "name": "stdout",
          "text": [
            "Input sequence: as any person\n",
            "in sight; but after a while the child discovered a horse and buggy\n",
            "standing near a group of trees a short distance\n"
          ]
        },
        {
          "output_type": "stream",
          "name": "stderr",
          "text": [
            " 49%|████▉     | 4903/10000 [09:49<50:51,  1.67it/s]  "
          ]
        },
        {
          "output_type": "stream",
          "name": "stdout",
          "text": [
            "step: 4900, train loss: 1.224, val loss: 1.490\n"
          ]
        },
        {
          "output_type": "stream",
          "name": "stderr",
          "text": [
            " 50%|████▉     | 4999/10000 [09:56<06:01, 13.82it/s]"
          ]
        },
        {
          "output_type": "stream",
          "name": "stdout",
          "text": [
            "Input sequence: e.\n",
            "\n",
            "\"A nice country this is,\" he grumbled, \"where a respectable horse has to\n",
            "eat pink grass!\"\n",
            "\n",
            "\"It's violet,\" said the Wizard, w\n"
          ]
        },
        {
          "output_type": "stream",
          "name": "stderr",
          "text": [
            " 50%|█████     | 5003/10000 [10:01<49:48,  1.67it/s]  "
          ]
        },
        {
          "output_type": "stream",
          "name": "stdout",
          "text": [
            "step: 5000, train loss: 1.208, val loss: 1.519\n"
          ]
        },
        {
          "output_type": "stream",
          "name": "stderr",
          "text": [
            " 51%|█████     | 5099/10000 [10:08<05:51, 13.93it/s]"
          ]
        },
        {
          "output_type": "stream",
          "name": "stdout",
          "text": [
            "Input sequence:  EARTHQUAKE                                                      13\n",
            "\n",
            "  2  THE GLASS CITY                                        \n"
          ]
        },
        {
          "output_type": "stream",
          "name": "stderr",
          "text": [
            " 51%|█████     | 5103/10000 [10:14<48:47,  1.67it/s]  "
          ]
        },
        {
          "output_type": "stream",
          "name": "stdout",
          "text": [
            "step: 5100, train loss: 1.207, val loss: 1.519\n"
          ]
        },
        {
          "output_type": "stream",
          "name": "stderr",
          "text": [
            " 52%|█████▏    | 5199/10000 [10:20<05:49, 13.75it/s]"
          ]
        },
        {
          "output_type": "stream",
          "name": "stdout",
          "text": [
            "Input sequence: ught up another piglet and pushed it\n",
            "into the first, where it disappeared. And so, one by one, the nine tiny\n",
            "piglets were pushed\n"
          ]
        },
        {
          "output_type": "stream",
          "name": "stderr",
          "text": [
            " 52%|█████▏    | 5203/10000 [10:26<47:51,  1.67it/s]  "
          ]
        },
        {
          "output_type": "stream",
          "name": "stdout",
          "text": [
            "step: 5200, train loss: 1.190, val loss: 1.502\n"
          ]
        },
        {
          "output_type": "stream",
          "name": "stderr",
          "text": [
            " 53%|█████▎    | 5299/10000 [10:33<05:42, 13.71it/s]"
          ]
        },
        {
          "output_type": "stream",
          "name": "stdout",
          "text": [
            "Input sequence:  we keep in our houses today is descended from the\n",
            "wild cat of the jungle--a very ferocious creature, indeed. The Wizard\n",
            "knew th\n"
          ]
        },
        {
          "output_type": "stream",
          "name": "stderr",
          "text": [
            " 53%|█████▎    | 5303/10000 [10:38<47:01,  1.66it/s]  "
          ]
        },
        {
          "output_type": "stream",
          "name": "stdout",
          "text": [
            "step: 5300, train loss: 1.197, val loss: 1.498\n"
          ]
        },
        {
          "output_type": "stream",
          "name": "stderr",
          "text": [
            " 54%|█████▍    | 5399/10000 [10:45<05:29, 13.98it/s]"
          ]
        },
        {
          "output_type": "stream",
          "name": "stdout",
          "text": [
            "Input sequence: hy, who noticed that the beautiful man did not\n",
            "look where he was going; \"be careful, or you'll fall off!\"\n",
            "\n",
            "But he paid no attent\n"
          ]
        },
        {
          "output_type": "stream",
          "name": "stderr",
          "text": [
            " 54%|█████▍    | 5403/10000 [10:50<46:03,  1.66it/s]  "
          ]
        },
        {
          "output_type": "stream",
          "name": "stdout",
          "text": [
            "step: 5400, train loss: 1.189, val loss: 1.497\n"
          ]
        },
        {
          "output_type": "stream",
          "name": "stderr",
          "text": [
            " 55%|█████▍    | 5499/10000 [10:57<05:22, 13.95it/s]"
          ]
        },
        {
          "output_type": "stream",
          "name": "stdout",
          "text": [
            "Input sequence: uch stronger and fiercer. The\n",
            "beast was quite dead from the sword thrusts, and after a glance at its\n",
            "terrible claws and sharp te\n"
          ]
        },
        {
          "output_type": "stream",
          "name": "stderr",
          "text": [
            " 55%|█████▌    | 5503/10000 [11:02<44:45,  1.67it/s]  "
          ]
        },
        {
          "output_type": "stream",
          "name": "stdout",
          "text": [
            "step: 5500, train loss: 1.179, val loss: 1.504\n"
          ]
        },
        {
          "output_type": "stream",
          "name": "stderr",
          "text": [
            " 56%|█████▌    | 5599/10000 [11:09<05:14, 14.01it/s]"
          ]
        },
        {
          "output_type": "stream",
          "name": "stdout",
          "text": [
            "Input sequence:  I weigh about half a ton.\"\n",
            "\n",
            "\"You don't weigh as much as you ought to, Jim,\" remarked the girl,\n",
            "shaking her head as she looked a\n"
          ]
        },
        {
          "output_type": "stream",
          "name": "stderr",
          "text": [
            " 56%|█████▌    | 5603/10000 [11:14<43:51,  1.67it/s]  "
          ]
        },
        {
          "output_type": "stream",
          "name": "stdout",
          "text": [
            "step: 5600, train loss: 1.169, val loss: 1.498\n"
          ]
        },
        {
          "output_type": "stream",
          "name": "stderr",
          "text": [
            " 57%|█████▋    | 5699/10000 [11:21<05:06, 14.05it/s]"
          ]
        },
        {
          "output_type": "stream",
          "name": "stdout",
          "text": [
            "Input sequence:  the time he had\n",
            "returned Dorothy was awake. Then the three held a counsel to decide what\n",
            "they should do next, but could think o\n"
          ]
        },
        {
          "output_type": "stream",
          "name": "stderr",
          "text": [
            " 57%|█████▋    | 5703/10000 [11:27<42:38,  1.68it/s]"
          ]
        },
        {
          "output_type": "stream",
          "name": "stdout",
          "text": [
            "step: 5700, train loss: 1.170, val loss: 1.492\n"
          ]
        },
        {
          "output_type": "stream",
          "name": "stderr",
          "text": [
            " 58%|█████▊    | 5799/10000 [11:33<05:00, 14.00it/s]"
          ]
        },
        {
          "output_type": "stream",
          "name": "stdout",
          "text": [
            "Input sequence: ward the glass city to escort their new ruler to her palace\n",
            "and to perform those ceremonies proper to the occasion. But while th\n"
          ]
        },
        {
          "output_type": "stream",
          "name": "stderr",
          "text": [
            " 58%|█████▊    | 5803/10000 [11:39<41:46,  1.67it/s]"
          ]
        },
        {
          "output_type": "stream",
          "name": "stdout",
          "text": [
            "step: 5800, train loss: 1.155, val loss: 1.493\n"
          ]
        },
        {
          "output_type": "stream",
          "name": "stderr",
          "text": [
            " 59%|█████▉    | 5899/10000 [11:46<04:54, 13.91it/s]"
          ]
        },
        {
          "output_type": "stream",
          "name": "stdout",
          "text": [
            "Input sequence: y were tower-like in shape and the best of\n",
            "them seemed old and weather-worn; yet all were strong and substantial.\n",
            "\n",
            "To one of the\n"
          ]
        },
        {
          "output_type": "stream",
          "name": "stderr",
          "text": [
            " 59%|█████▉    | 5903/10000 [11:51<40:57,  1.67it/s]"
          ]
        },
        {
          "output_type": "stream",
          "name": "stdout",
          "text": [
            "step: 5900, train loss: 1.164, val loss: 1.473\n"
          ]
        },
        {
          "output_type": "stream",
          "name": "stderr",
          "text": [
            " 60%|█████▉    | 5999/10000 [11:58<04:44, 14.05it/s]"
          ]
        },
        {
          "output_type": "stream",
          "name": "stdout",
          "text": [
            "Input sequence: et into a lot of mischief. Mother usually knows what she\n",
            "is about, but she made a mistake this time; for you are sure to escape\n",
            "\n"
          ]
        },
        {
          "output_type": "stream",
          "name": "stderr",
          "text": [
            " 60%|██████    | 6003/10000 [12:03<40:03,  1.66it/s]"
          ]
        },
        {
          "output_type": "stream",
          "name": "stdout",
          "text": [
            "step: 6000, train loss: 1.162, val loss: 1.478\n"
          ]
        },
        {
          "output_type": "stream",
          "name": "stderr",
          "text": [
            " 61%|██████    | 6099/10000 [12:10<04:36, 14.11it/s]"
          ]
        },
        {
          "output_type": "stream",
          "name": "stdout",
          "text": [
            "Input sequence: n next the\n",
            "door was opened you ran out and hid yourself--and the piglet was gone.\"\n",
            "\n",
            "\"That's none of my business,\" growled the ki\n"
          ]
        },
        {
          "output_type": "stream",
          "name": "stderr",
          "text": [
            " 61%|██████    | 6103/10000 [12:15<38:54,  1.67it/s]"
          ]
        },
        {
          "output_type": "stream",
          "name": "stdout",
          "text": [
            "step: 6100, train loss: 1.136, val loss: 1.488\n"
          ]
        },
        {
          "output_type": "stream",
          "name": "stderr",
          "text": [
            " 62%|██████▏   | 6199/10000 [12:22<04:32, 13.96it/s]"
          ]
        },
        {
          "output_type": "stream",
          "name": "stdout",
          "text": [
            "Input sequence: ss in the buggy when he had\n",
            "taken it off from Jim to let the horse lie down and rest. So there was\n",
            "nothing for the girl to carry\n"
          ]
        },
        {
          "output_type": "stream",
          "name": "stderr",
          "text": [
            " 62%|██████▏   | 6203/10000 [12:28<37:44,  1.68it/s]"
          ]
        },
        {
          "output_type": "stream",
          "name": "stdout",
          "text": [
            "step: 6200, train loss: 1.147, val loss: 1.488\n"
          ]
        },
        {
          "output_type": "stream",
          "name": "stderr",
          "text": [
            " 63%|██████▎   | 6299/10000 [12:34<04:24, 14.00it/s]"
          ]
        },
        {
          "output_type": "stream",
          "name": "stdout",
          "text": [
            "Input sequence: ab-horse made several curious sounds\n",
            "that led the little girl to suspect he was laughing at them all.\n",
            "\n",
            "[Illustration]\n",
            "\n",
            "\n",
            "\n",
            "\n",
            "CHAPTE\n"
          ]
        },
        {
          "output_type": "stream",
          "name": "stderr",
          "text": [
            " 63%|██████▎   | 6303/10000 [12:40<36:43,  1.68it/s]"
          ]
        },
        {
          "output_type": "stream",
          "name": "stdout",
          "text": [
            "step: 6300, train loss: 1.143, val loss: 1.492\n"
          ]
        },
        {
          "output_type": "stream",
          "name": "stderr",
          "text": [
            " 64%|██████▍   | 6399/10000 [12:47<04:15, 14.12it/s]"
          ]
        },
        {
          "output_type": "stream",
          "name": "stdout",
          "text": [
            "Input sequence:  it,\" he answered. \"I only bossed the job, as we say\n",
            "in Omaha.\"\n",
            "\n",
            "\"But you ruled it wisely and well for many years,\" said she, \"a\n"
          ]
        },
        {
          "output_type": "stream",
          "name": "stderr",
          "text": [
            " 64%|██████▍   | 6403/10000 [12:52<35:52,  1.67it/s]"
          ]
        },
        {
          "output_type": "stream",
          "name": "stdout",
          "text": [
            "step: 6400, train loss: 1.122, val loss: 1.500\n"
          ]
        },
        {
          "output_type": "stream",
          "name": "stderr",
          "text": [
            " 65%|██████▍   | 6499/10000 [12:59<04:08, 14.08it/s]"
          ]
        },
        {
          "output_type": "stream",
          "name": "stdout",
          "text": [
            "Input sequence: efully.\"\n",
            "\n",
            "He began making queer signs and passes toward the Wizard; but the little\n",
            "man did not watch him long. Instead, he drew \n"
          ]
        },
        {
          "output_type": "stream",
          "name": "stderr",
          "text": [
            " 65%|██████▌   | 6503/10000 [13:04<35:00,  1.67it/s]"
          ]
        },
        {
          "output_type": "stream",
          "name": "stdout",
          "text": [
            "step: 6500, train loss: 1.109, val loss: 1.491\n"
          ]
        },
        {
          "output_type": "stream",
          "name": "stderr",
          "text": [
            " 66%|██████▌   | 6599/10000 [13:11<04:02, 14.04it/s]"
          ]
        },
        {
          "output_type": "stream",
          "name": "stdout",
          "text": [
            "Input sequence: right,\" returned the man's voice, more pleasantly than\n",
            "before. \"You are welcome to what we have.\"\n",
            "\n",
            "As he spoke the voice came so\n"
          ]
        },
        {
          "output_type": "stream",
          "name": "stderr",
          "text": [
            " 66%|██████▌   | 6603/10000 [13:16<34:03,  1.66it/s]"
          ]
        },
        {
          "output_type": "stream",
          "name": "stdout",
          "text": [
            "step: 6600, train loss: 1.115, val loss: 1.467\n"
          ]
        },
        {
          "output_type": "stream",
          "name": "stderr",
          "text": [
            " 67%|██████▋   | 6699/10000 [13:23<03:56, 13.98it/s]"
          ]
        },
        {
          "output_type": "stream",
          "name": "stdout",
          "text": [
            "Input sequence: e the four countries cornered together, and when it was\n",
            "completed I announced myself the Ruler of the Land of Oz, which included\n"
          ]
        },
        {
          "output_type": "stream",
          "name": "stderr",
          "text": [
            " 67%|██████▋   | 6703/10000 [13:28<33:02,  1.66it/s]"
          ]
        },
        {
          "output_type": "stream",
          "name": "stdout",
          "text": [
            "step: 6700, train loss: 1.111, val loss: 1.509\n"
          ]
        },
        {
          "output_type": "stream",
          "name": "stderr",
          "text": [
            " 68%|██████▊   | 6799/10000 [13:35<03:47, 14.06it/s]"
          ]
        },
        {
          "output_type": "stream",
          "name": "stdout",
          "text": [
            "Input sequence:                               L. FRANK BAUM\n",
            "CORONADO, 1908.\n",
            "\n",
            "\n",
            "\n",
            "\n",
            "LIST OF CHAPTERS\n",
            "\n",
            "\n",
            "CHAPTER                                      \n"
          ]
        },
        {
          "output_type": "stream",
          "name": "stderr",
          "text": [
            " 68%|██████▊   | 6803/10000 [13:41<31:50,  1.67it/s]"
          ]
        },
        {
          "output_type": "stream",
          "name": "stdout",
          "text": [
            "step: 6800, train loss: 1.116, val loss: 1.479\n"
          ]
        },
        {
          "output_type": "stream",
          "name": "stderr",
          "text": [
            " 69%|██████▉   | 6899/10000 [13:47<03:41, 14.02it/s]"
          ]
        },
        {
          "output_type": "stream",
          "name": "stdout",
          "text": [
            "Input sequence: mountain, for my subjects cannot bear to have them\n",
            "around.\"\n",
            "\n",
            "The Wizard was so pleased to have saved the two children and himsel\n"
          ]
        },
        {
          "output_type": "stream",
          "name": "stderr",
          "text": [
            " 69%|██████▉   | 6903/10000 [13:53<30:46,  1.68it/s]"
          ]
        },
        {
          "output_type": "stream",
          "name": "stdout",
          "text": [
            "step: 6900, train loss: 1.120, val loss: 1.483\n"
          ]
        },
        {
          "output_type": "stream",
          "name": "stderr",
          "text": [
            " 70%|██████▉   | 6999/10000 [14:00<03:33, 14.06it/s]"
          ]
        },
        {
          "output_type": "stream",
          "name": "stdout",
          "text": [
            "Input sequence: sh,\" said Jim. \"Fetch it on, but don't cook it,\n",
            "as you value your life.\"\n",
            "\n",
            "You see, the respect shown the worn-out old cab-horse \n"
          ]
        },
        {
          "output_type": "stream",
          "name": "stderr",
          "text": [
            " 70%|███████   | 7003/10000 [14:05<29:39,  1.68it/s]"
          ]
        },
        {
          "output_type": "stream",
          "name": "stdout",
          "text": [
            "step: 7000, train loss: 1.111, val loss: 1.476\n"
          ]
        },
        {
          "output_type": "stream",
          "name": "stderr",
          "text": [
            " 71%|███████   | 7099/10000 [14:12<03:26, 14.03it/s]"
          ]
        },
        {
          "output_type": "stream",
          "name": "stdout",
          "text": [
            "Input sequence: e four nations that inhabit the Land of Oz,\" was the reply. \"I wonder\n",
            "if they would treat me nicely if I went there again.\"\n",
            "\n",
            "\"Of\n"
          ]
        },
        {
          "output_type": "stream",
          "name": "stderr",
          "text": [
            " 71%|███████   | 7103/10000 [14:17<28:55,  1.67it/s]"
          ]
        },
        {
          "output_type": "stream",
          "name": "stdout",
          "text": [
            "step: 7100, train loss: 1.106, val loss: 1.485\n"
          ]
        },
        {
          "output_type": "stream",
          "name": "stderr",
          "text": [
            " 72%|███████▏  | 7199/10000 [14:24<03:22, 13.84it/s]"
          ]
        },
        {
          "output_type": "stream",
          "name": "stdout",
          "text": [
            "Input sequence: holes, and having no room in which to store them I set them all end\n",
            "to end and put the top one in the ground. That made an extra\n"
          ]
        },
        {
          "output_type": "stream",
          "name": "stderr",
          "text": [
            " 72%|███████▏  | 7203/10000 [14:29<28:00,  1.66it/s]"
          ]
        },
        {
          "output_type": "stream",
          "name": "stdout",
          "text": [
            "step: 7200, train loss: 1.100, val loss: 1.491\n"
          ]
        },
        {
          "output_type": "stream",
          "name": "stderr",
          "text": [
            " 73%|███████▎  | 7299/10000 [14:36<03:11, 14.07it/s]"
          ]
        },
        {
          "output_type": "stream",
          "name": "stdout",
          "text": [
            "Input sequence: at the animal. \"You're dreadfully\n",
            "skinny.\"\n",
            "\n",
            "\"Oh, well; I'm old,\" said the horse, hanging his head despondently, \"and\n",
            "I've had lo\n"
          ]
        },
        {
          "output_type": "stream",
          "name": "stderr",
          "text": [
            " 73%|███████▎  | 7303/10000 [14:41<27:26,  1.64it/s]"
          ]
        },
        {
          "output_type": "stream",
          "name": "stdout",
          "text": [
            "step: 7300, train loss: 1.082, val loss: 1.480\n"
          ]
        },
        {
          "output_type": "stream",
          "name": "stderr",
          "text": [
            " 74%|███████▍  | 7399/10000 [14:48<03:04, 14.08it/s]"
          ]
        },
        {
          "output_type": "stream",
          "name": "stdout",
          "text": [
            "Input sequence:  before yesterday.\"\n",
            "\n",
            "\"But that isn't young!\" cried Dorothy, in amazement.\n",
            "\n",
            "\"No?\" drawled the dragonette; \"it seems to me very ba\n"
          ]
        },
        {
          "output_type": "stream",
          "name": "stderr",
          "text": [
            " 74%|███████▍  | 7403/10000 [14:54<25:48,  1.68it/s]"
          ]
        },
        {
          "output_type": "stream",
          "name": "stdout",
          "text": [
            "step: 7400, train loss: 1.091, val loss: 1.477\n"
          ]
        },
        {
          "output_type": "stream",
          "name": "stderr",
          "text": [
            " 75%|███████▍  | 7499/10000 [15:00<02:56, 14.15it/s]"
          ]
        },
        {
          "output_type": "stream",
          "name": "stdout",
          "text": [
            "Input sequence: had gone\n",
            "both Jim and Eureka protested they did not want to go to the Black Pit,\n",
            "and Dorothy promised she would do all that she \n"
          ]
        },
        {
          "output_type": "stream",
          "name": "stderr",
          "text": [
            " 75%|███████▌  | 7503/10000 [15:06<24:49,  1.68it/s]"
          ]
        },
        {
          "output_type": "stream",
          "name": "stdout",
          "text": [
            "step: 7500, train loss: 1.090, val loss: 1.469\n"
          ]
        },
        {
          "output_type": "stream",
          "name": "stderr",
          "text": [
            " 76%|███████▌  | 7599/10000 [15:13<02:51, 14.01it/s]"
          ]
        },
        {
          "output_type": "stream",
          "name": "stdout",
          "text": [
            "Input sequence: ed to the ground, and seeing his success Jim kicked\n",
            "again and again, charging into the vegetable crowd, knocking them in\n",
            "all dir\n"
          ]
        },
        {
          "output_type": "stream",
          "name": "stderr",
          "text": [
            " 76%|███████▌  | 7603/10000 [15:18<23:54,  1.67it/s]"
          ]
        },
        {
          "output_type": "stream",
          "name": "stdout",
          "text": [
            "step: 7600, train loss: 1.075, val loss: 1.469\n"
          ]
        },
        {
          "output_type": "stream",
          "name": "stderr",
          "text": [
            " 77%|███████▋  | 7699/10000 [15:25<02:44, 14.02it/s]"
          ]
        },
        {
          "output_type": "stream",
          "name": "stdout",
          "text": [
            "Input sequence: ur parts of the kingdom themselves; so when the Ruler, my\n",
            "grandfather, was hunting one day, one Wicked Witch named Mombi stole h\n"
          ]
        },
        {
          "output_type": "stream",
          "name": "stderr",
          "text": [
            " 77%|███████▋  | 7703/10000 [15:30<23:02,  1.66it/s]"
          ]
        },
        {
          "output_type": "stream",
          "name": "stdout",
          "text": [
            "step: 7700, train loss: 1.082, val loss: 1.497\n"
          ]
        },
        {
          "output_type": "stream",
          "name": "stderr",
          "text": [
            " 78%|███████▊  | 7799/10000 [15:37<02:36, 14.02it/s]"
          ]
        },
        {
          "output_type": "stream",
          "name": "stdout",
          "text": [
            "Input sequence: to follow them he felt a hot breath against\n",
            "his cheek and heard a low, fierce growl. At once he began stabbing at\n",
            "the air with h\n"
          ]
        },
        {
          "output_type": "stream",
          "name": "stderr",
          "text": [
            " 78%|███████▊  | 7803/10000 [15:42<22:02,  1.66it/s]"
          ]
        },
        {
          "output_type": "stream",
          "name": "stdout",
          "text": [
            "step: 7800, train loss: 1.054, val loss: 1.464\n"
          ]
        },
        {
          "output_type": "stream",
          "name": "stderr",
          "text": [
            " 79%|███████▉  | 7899/10000 [15:49<02:29, 14.03it/s]"
          ]
        },
        {
          "output_type": "stream",
          "name": "stdout",
          "text": [
            "Input sequence:  back.\"\n",
            "\n",
            "So together they leaned over the great bush and each of them seized one\n",
            "hand of the lovely Princess.\n",
            "\n",
            "\"Pull!\" cried Dor\n"
          ]
        },
        {
          "output_type": "stream",
          "name": "stderr",
          "text": [
            " 79%|███████▉  | 7903/10000 [15:54<20:53,  1.67it/s]"
          ]
        },
        {
          "output_type": "stream",
          "name": "stdout",
          "text": [
            "step: 7900, train loss: 1.063, val loss: 1.468\n"
          ]
        },
        {
          "output_type": "stream",
          "name": "stderr",
          "text": [
            " 80%|███████▉  | 7999/10000 [16:01<02:22, 14.05it/s]"
          ]
        },
        {
          "output_type": "stream",
          "name": "stdout",
          "text": [
            "Input sequence: o say: 'I wonder what\n",
            "So-and-so is doing,' and at once the picture shows where her friend is\n",
            "and what the friend is doing. That'\n"
          ]
        },
        {
          "output_type": "stream",
          "name": "stderr",
          "text": [
            " 80%|████████  | 8003/10000 [16:06<19:49,  1.68it/s]"
          ]
        },
        {
          "output_type": "stream",
          "name": "stdout",
          "text": [
            "step: 8000, train loss: 1.058, val loss: 1.487\n"
          ]
        },
        {
          "output_type": "stream",
          "name": "stderr",
          "text": [
            " 81%|████████  | 8099/10000 [16:13<02:15, 14.00it/s]"
          ]
        },
        {
          "output_type": "stream",
          "name": "stdout",
          "text": [
            "Input sequence: n; but perhaps she wasn't brought up properly.\n",
            "Dorothy found her, you see, and who her parents were nobody knows.\n",
            "\n",
            "I believe, my\n"
          ]
        },
        {
          "output_type": "stream",
          "name": "stderr",
          "text": [
            " 81%|████████  | 8103/10000 [16:19<18:50,  1.68it/s]"
          ]
        },
        {
          "output_type": "stream",
          "name": "stdout",
          "text": [
            "step: 8100, train loss: 1.051, val loss: 1.473\n"
          ]
        },
        {
          "output_type": "stream",
          "name": "stderr",
          "text": [
            " 82%|████████▏ | 8199/10000 [16:25<02:09, 13.96it/s]"
          ]
        },
        {
          "output_type": "stream",
          "name": "stdout",
          "text": [
            "Input sequence: ould be pretty dead, wouldn't it?\" asked Dorothy.\n",
            "\n",
            "\"Yes, my dear. But we have no need to worry about that just now. Let us\n",
            "exami\n"
          ]
        },
        {
          "output_type": "stream",
          "name": "stderr",
          "text": [
            " 82%|████████▏ | 8203/10000 [16:31<17:55,  1.67it/s]"
          ]
        },
        {
          "output_type": "stream",
          "name": "stdout",
          "text": [
            "step: 8200, train loss: 1.070, val loss: 1.479\n"
          ]
        },
        {
          "output_type": "stream",
          "name": "stderr",
          "text": [
            " 83%|████████▎ | 8299/10000 [16:38<02:00, 14.17it/s]"
          ]
        },
        {
          "output_type": "stream",
          "name": "stdout",
          "text": [
            "Input sequence: m to make her a certain sign and\n",
            "she will put on the Nome King's Magic Belt and wish me to be with her in\n",
            "Oz.\"\n",
            "\n",
            "\"Do you mean tha\n"
          ]
        },
        {
          "output_type": "stream",
          "name": "stderr",
          "text": [
            " 83%|████████▎ | 8303/10000 [16:43<16:59,  1.67it/s]"
          ]
        },
        {
          "output_type": "stream",
          "name": "stdout",
          "text": [
            "step: 8300, train loss: 1.052, val loss: 1.450\n"
          ]
        },
        {
          "output_type": "stream",
          "name": "stderr",
          "text": [
            " 84%|████████▍ | 8399/10000 [16:50<01:53, 14.09it/s]"
          ]
        },
        {
          "output_type": "stream",
          "name": "stdout",
          "text": [
            "Input sequence: e,\" said Zeb, who by now had unhitched the horse.\n",
            "\n",
            "\"If we had known we were coming we might have brought along several\n",
            "other use\n"
          ]
        },
        {
          "output_type": "stream",
          "name": "stderr",
          "text": [
            " 84%|████████▍ | 8403/10000 [16:55<15:59,  1.66it/s]"
          ]
        },
        {
          "output_type": "stream",
          "name": "stdout",
          "text": [
            "step: 8400, train loss: 1.045, val loss: 1.456\n"
          ]
        },
        {
          "output_type": "stream",
          "name": "stderr",
          "text": [
            " 85%|████████▍ | 8499/10000 [17:02<01:47, 13.97it/s]"
          ]
        },
        {
          "output_type": "stream",
          "name": "stdout",
          "text": [
            "Input sequence: ple. Today came another Rain of\n",
            "Stones, and soon after it you appeared among us.\"\n",
            "\n",
            "\"By the way,\" said the man with the star, loo\n"
          ]
        },
        {
          "output_type": "stream",
          "name": "stderr",
          "text": [
            " 85%|████████▌ | 8503/10000 [17:07<15:06,  1.65it/s]"
          ]
        },
        {
          "output_type": "stream",
          "name": "stdout",
          "text": [
            "step: 8500, train loss: 1.039, val loss: 1.499\n"
          ]
        },
        {
          "output_type": "stream",
          "name": "stderr",
          "text": [
            " 86%|████████▌ | 8599/10000 [17:14<01:39, 14.07it/s]"
          ]
        },
        {
          "output_type": "stream",
          "name": "stdout",
          "text": [
            "Input sequence: to you.\"\n",
            "\n",
            "\"Ozma can do it, easily,\" replied Dorothy. \"Tomorrow morning I'll go to\n",
            "Kansas and you can go to Californy.\"\n",
            "\n",
            "[Illustr\n"
          ]
        },
        {
          "output_type": "stream",
          "name": "stderr",
          "text": [
            " 86%|████████▌ | 8603/10000 [17:20<13:53,  1.68it/s]"
          ]
        },
        {
          "output_type": "stream",
          "name": "stdout",
          "text": [
            "step: 8600, train loss: 1.038, val loss: 1.479\n"
          ]
        },
        {
          "output_type": "stream",
          "name": "stderr",
          "text": [
            " 87%|████████▋ | 8699/10000 [17:26<01:33, 13.93it/s]"
          ]
        },
        {
          "output_type": "stream",
          "name": "stdout",
          "text": [
            "Input sequence: d years, to the time of the famous Green Dragon of\n",
            "Atlantis, who lived in a time when humans had not yet been created. Can\n",
            "you m\n"
          ]
        },
        {
          "output_type": "stream",
          "name": "stderr",
          "text": [
            " 87%|████████▋ | 8703/10000 [17:32<12:52,  1.68it/s]"
          ]
        },
        {
          "output_type": "stream",
          "name": "stdout",
          "text": [
            "step: 8700, train loss: 1.025, val loss: 1.474\n"
          ]
        },
        {
          "output_type": "stream",
          "name": "stderr",
          "text": [
            " 88%|████████▊ | 8799/10000 [17:39<01:25, 14.10it/s]"
          ]
        },
        {
          "output_type": "stream",
          "name": "stdout",
          "text": [
            "Input sequence: h some difficulty and danger Jim drew the buggy over the\n",
            "loose rocks until he reached the green lawns below, where the paths and\n"
          ]
        },
        {
          "output_type": "stream",
          "name": "stderr",
          "text": [
            " 88%|████████▊ | 8803/10000 [17:44<11:55,  1.67it/s]"
          ]
        },
        {
          "output_type": "stream",
          "name": "stdout",
          "text": [
            "step: 8800, train loss: 1.019, val loss: 1.484\n"
          ]
        },
        {
          "output_type": "stream",
          "name": "stderr",
          "text": [
            " 89%|████████▉ | 8899/10000 [17:51<01:18, 14.00it/s]"
          ]
        },
        {
          "output_type": "stream",
          "name": "stdout",
          "text": [
            "Input sequence: cape being pricked, and Zeb and\n",
            "the Wizard, after enduring a few stabs from the thorns, were glad to\n",
            "follow her. At once the Man\n"
          ]
        },
        {
          "output_type": "stream",
          "name": "stderr",
          "text": [
            " 89%|████████▉ | 8903/10000 [17:56<10:59,  1.66it/s]"
          ]
        },
        {
          "output_type": "stream",
          "name": "stdout",
          "text": [
            "step: 8900, train loss: 1.014, val loss: 1.485\n"
          ]
        },
        {
          "output_type": "stream",
          "name": "stderr",
          "text": [
            " 90%|████████▉ | 8999/10000 [18:03<01:11, 13.96it/s]"
          ]
        },
        {
          "output_type": "stream",
          "name": "stdout",
          "text": [
            "Input sequence: tchel from the buggy and, opening it, took out two deadly\n",
            "looking revolvers that made the children shrink back in alarm just to\n",
            "\n"
          ]
        },
        {
          "output_type": "stream",
          "name": "stderr",
          "text": [
            " 90%|█████████ | 9003/10000 [18:08<09:59,  1.66it/s]"
          ]
        },
        {
          "output_type": "stream",
          "name": "stdout",
          "text": [
            "step: 9000, train loss: 1.024, val loss: 1.500\n"
          ]
        },
        {
          "output_type": "stream",
          "name": "stderr",
          "text": [
            " 91%|█████████ | 9099/10000 [18:15<01:04, 13.95it/s]"
          ]
        },
        {
          "output_type": "stream",
          "name": "stdout",
          "text": [
            "Input sequence: s I would not need a conscience, for nothing\n",
            "could then tempt me to devour babies and lambs.\"\n",
            "\n",
            "Just then Dorothy, who had risen \n"
          ]
        },
        {
          "output_type": "stream",
          "name": "stderr",
          "text": [
            " 91%|█████████ | 9103/10000 [18:20<08:56,  1.67it/s]"
          ]
        },
        {
          "output_type": "stream",
          "name": "stdout",
          "text": [
            "step: 9100, train loss: 1.011, val loss: 1.466\n"
          ]
        },
        {
          "output_type": "stream",
          "name": "stderr",
          "text": [
            " 92%|█████████▏| 9199/10000 [18:27<00:57, 14.05it/s]"
          ]
        },
        {
          "output_type": "stream",
          "name": "stdout",
          "text": [
            "Input sequence: ing a murder.\n",
            "Eureka is the sweet pet of a lovely little girl whom we all admire, and\n",
            "gentleness and innocence are her chief vir\n"
          ]
        },
        {
          "output_type": "stream",
          "name": "stderr",
          "text": [
            " 92%|█████████▏| 9203/10000 [18:33<07:55,  1.67it/s]"
          ]
        },
        {
          "output_type": "stream",
          "name": "stdout",
          "text": [
            "step: 9200, train loss: 1.010, val loss: 1.473\n"
          ]
        },
        {
          "output_type": "stream",
          "name": "stderr",
          "text": [
            " 93%|█████████▎| 9299/10000 [18:39<00:49, 14.15it/s]"
          ]
        },
        {
          "output_type": "stream",
          "name": "stdout",
          "text": [
            "Input sequence: THE DEN OF THE DRAGONETTES\n",
            "\n",
            "\n",
            "Our friends had a good start and were able to maintain it, for with\n",
            "their eight wings they could go\n"
          ]
        },
        {
          "output_type": "stream",
          "name": "stderr",
          "text": [
            " 93%|█████████▎| 9303/10000 [18:45<06:55,  1.68it/s]"
          ]
        },
        {
          "output_type": "stream",
          "name": "stdout",
          "text": [
            "step: 9300, train loss: 1.008, val loss: 1.492\n"
          ]
        },
        {
          "output_type": "stream",
          "name": "stderr",
          "text": [
            " 94%|█████████▍| 9399/10000 [18:52<00:43, 13.92it/s]"
          ]
        },
        {
          "output_type": "stream",
          "name": "stdout",
          "text": [
            "Input sequence: aught up their\n",
            "thorns and gave chase, mounting through the air after her. Eureka,\n",
            "however, was lighter than the Mangaboos, and w\n"
          ]
        },
        {
          "output_type": "stream",
          "name": "stderr",
          "text": [
            " 94%|█████████▍| 9403/10000 [18:57<05:57,  1.67it/s]"
          ]
        },
        {
          "output_type": "stream",
          "name": "stdout",
          "text": [
            "step: 9400, train loss: 1.002, val loss: 1.474\n"
          ]
        },
        {
          "output_type": "stream",
          "name": "stderr",
          "text": [
            " 95%|█████████▍| 9499/10000 [19:04<00:35, 13.98it/s]"
          ]
        },
        {
          "output_type": "stream",
          "name": "stdout",
          "text": [
            "Input sequence: attraction of gravitation is very slight.\n",
            "But I've noticed that many queer things happen in fairy countries.\"\n",
            "\n",
            "\"Is this a fairy \n"
          ]
        },
        {
          "output_type": "stream",
          "name": "stderr",
          "text": [
            " 95%|█████████▌| 9503/10000 [19:09<04:58,  1.67it/s]"
          ]
        },
        {
          "output_type": "stream",
          "name": "stdout",
          "text": [
            "step: 9500, train loss: 1.009, val loss: 1.489\n"
          ]
        },
        {
          "output_type": "stream",
          "name": "stderr",
          "text": [
            " 96%|█████████▌| 9599/10000 [19:16<00:28, 14.03it/s]"
          ]
        },
        {
          "output_type": "stream",
          "name": "stdout",
          "text": [
            "Input sequence: ked the boy.\n",
            "\n",
            "\"Eat! No, indeed. We are quite solid inside our bodies, and have no need\n",
            "to eat, any more than does a potato.\"\n",
            "\n",
            "\"B\n"
          ]
        },
        {
          "output_type": "stream",
          "name": "stderr",
          "text": [
            " 96%|█████████▌| 9603/10000 [19:21<03:58,  1.66it/s]"
          ]
        },
        {
          "output_type": "stream",
          "name": "stdout",
          "text": [
            "step: 9600, train loss: 1.001, val loss: 1.481\n"
          ]
        },
        {
          "output_type": "stream",
          "name": "stderr",
          "text": [
            " 97%|█████████▋| 9699/10000 [19:28<00:21, 14.04it/s]"
          ]
        },
        {
          "output_type": "stream",
          "name": "stdout",
          "text": [
            "Input sequence:  themselves. There is no reason, that I can see, why they\n",
            "may not exist in the waters of this strange country.\"\n",
            "\n",
            "Then the Wizard\n"
          ]
        },
        {
          "output_type": "stream",
          "name": "stderr",
          "text": [
            " 97%|█████████▋| 9703/10000 [19:33<02:58,  1.67it/s]"
          ]
        },
        {
          "output_type": "stream",
          "name": "stdout",
          "text": [
            "step: 9700, train loss: 0.978, val loss: 1.479\n"
          ]
        },
        {
          "output_type": "stream",
          "name": "stderr",
          "text": [
            " 98%|█████████▊| 9799/10000 [19:40<00:14, 14.01it/s]"
          ]
        },
        {
          "output_type": "stream",
          "name": "stdout",
          "text": [
            "Input sequence:  race.\"\n",
            "\n",
            "There was more applause at this, and then Ozma had the jewelled saddle\n",
            "replaced upon the Sawhorse and herself rode the \n"
          ]
        },
        {
          "output_type": "stream",
          "name": "stderr",
          "text": [
            " 98%|█████████▊| 9803/10000 [19:46<01:57,  1.68it/s]"
          ]
        },
        {
          "output_type": "stream",
          "name": "stdout",
          "text": [
            "step: 9800, train loss: 0.996, val loss: 1.492\n"
          ]
        },
        {
          "output_type": "stream",
          "name": "stderr",
          "text": [
            " 99%|█████████▉| 9899/10000 [19:52<00:07, 13.97it/s]"
          ]
        },
        {
          "output_type": "stream",
          "name": "stdout",
          "text": [
            "Input sequence: uired the Scarecrow.\n",
            "\n",
            "\"As many times as is necessary,\" was the reply. \"I will ask the Tin\n",
            "Woodman to defend the prisoner, becaus\n"
          ]
        },
        {
          "output_type": "stream",
          "name": "stderr",
          "text": [
            " 99%|█████████▉| 9903/10000 [19:58<00:57,  1.68it/s]"
          ]
        },
        {
          "output_type": "stream",
          "name": "stdout",
          "text": [
            "step: 9900, train loss: 0.993, val loss: 1.488\n"
          ]
        },
        {
          "output_type": "stream",
          "name": "stderr",
          "text": [
            "100%|██████████| 10000/10000 [20:05<00:00,  8.30it/s]\n"
          ]
        },
        {
          "output_type": "stream",
          "name": "stdout",
          "text": [
            "model saved\n"
          ]
        }
      ]
    },
    {
      "cell_type": "markdown",
      "source": [
        "#### Chat with the New GPT"
      ],
      "metadata": {
        "id": "fAUJWm1O_hYt"
      }
    },
    {
      "cell_type": "markdown",
      "source": [
        "#### The following snippet is from the Validation split"
      ],
      "metadata": {
        "id": "W-E4E-QBCcz0"
      }
    },
    {
      "cell_type": "markdown",
      "source": [
        "You can see that the generated out put is different from the one used in the training.\n",
        "\n",
        "**Original Text :**  \n",
        "\"Thank you, dear Wiz,\" said the grateful Scarecrow. \"Now we must get the oil-can and rescue the Tin Woodman.\""
      ],
      "metadata": {
        "id": "UzQBiX6KCmYn"
      }
    },
    {
      "cell_type": "code",
      "source": [
        "prompt = '\"Thank you, dear Wiz,\"'\n",
        "context = torch.tensor(encode(prompt), dtype=torch.long, device=device)\n",
        "generated_chars = decode(m.generate(context.unsqueeze(0), max_new_tokens=100)[0].tolist())\n",
        "print(generated_chars)"
      ],
      "metadata": {
        "colab": {
          "base_uri": "https://localhost:8080/"
        },
        "id": "Pge4PLfzCOzt",
        "outputId": "9b3d1cb2-94be-4414-fc56-1b4b88c66a91"
      },
      "execution_count": 49,
      "outputs": [
        {
          "output_type": "stream",
          "name": "stdout",
          "text": [
            "\"Thank you, dear Wiz,\" remarked Dorothy, so he best held did to wander\n",
            "with her people glossly were quite must be from the\n"
          ]
        }
      ]
    },
    {
      "cell_type": "markdown",
      "source": [
        "#### Something unseen before creates some hallucination.   \n",
        "\n",
        "But it attempts to form a sentence."
      ],
      "metadata": {
        "id": "k8SQqICxDp2Z"
      }
    },
    {
      "cell_type": "code",
      "source": [
        "prompt = 'Hello I am Brook '\n",
        "context = torch.tensor(encode(prompt), dtype=torch.long, device=device)\n",
        "generated_chars = decode(m.generate(context.unsqueeze(0), max_new_tokens=100)[0].tolist())\n",
        "print(generated_chars)"
      ],
      "metadata": {
        "colab": {
          "base_uri": "https://localhost:8080/"
        },
        "id": "9vlPA6s-_xUm",
        "outputId": "3b12a6c7-1b6a-4edd-fd50-00da314b7d87"
      },
      "execution_count": 47,
      "outputs": [
        {
          "output_type": "stream",
          "name": "stdout",
          "text": [
            "Hello I am Brook as earth, as while\n",
            "you says I have here to our way willy try to eat them, he answer in a\n",
            "General chi\n"
          ]
        }
      ]
    },
    {
      "cell_type": "code",
      "source": [
        "prompt = 'Brook '\n",
        "context = torch.tensor(encode(prompt), dtype=torch.long, device=device)\n",
        "generated_chars = decode(m.generate(context.unsqueeze(0), max_new_tokens=100)[0].tolist())\n",
        "print(generated_chars)"
      ],
      "metadata": {
        "colab": {
          "base_uri": "https://localhost:8080/"
        },
        "id": "BYoz3SN0EDOU",
        "outputId": "0f4eaee8-50af-4d0a-80c0-0fc5cb49661a"
      },
      "execution_count": 57,
      "outputs": [
        {
          "output_type": "stream",
          "name": "stdout",
          "text": [
            "Brook and at\n",
            "With this treat, was flumberly caught she sawho Jim\n",
            "halves. Some Eureka, or course friends of\n"
          ]
        }
      ]
    }
  ]
}